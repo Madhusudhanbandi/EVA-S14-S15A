{
  "nbformat": 4,
  "nbformat_minor": 0,
  "metadata": {
    "kernelspec": {
      "name": "python3",
      "display_name": "Python 3"
    },
    "language_info": {
      "codemirror_mode": {
        "name": "ipython",
        "version": 3
      },
      "file_extension": ".py",
      "mimetype": "text/x-python",
      "name": "python",
      "nbconvert_exporter": "python",
      "pygments_lexer": "ipython3",
      "version": "3.6.6"
    },
    "colab": {
      "name": "EVA_S14_ASSIG.ipynb",
      "provenance": [],
      "collapsed_sections": [],
      "machine_shape": "hm",
      "include_colab_link": true
    },
    "accelerator": "GPU"
  },
  "cells": [
    {
      "cell_type": "markdown",
      "metadata": {
        "id": "view-in-github",
        "colab_type": "text"
      },
      "source": [
        "<a href=\"https://colab.research.google.com/github/Madhusudhanbandi/EVA-S14-S15A/blob/master/EVA_S14_ASSIG.ipynb\" target=\"_parent\"><img src=\"https://colab.research.google.com/assets/colab-badge.svg\" alt=\"Open In Colab\"/></a>"
      ]
    },
    {
      "cell_type": "code",
      "metadata": {
        "id": "qnNlF2wX8-np",
        "colab_type": "code",
        "outputId": "2606a9cf-9eb4-4c32-e8eb-9b735b5ed7f7",
        "colab": {
          "base_uri": "https://localhost:8080/",
          "height": 34
        }
      },
      "source": [
        "from google.colab import drive\n",
        "drive.mount('/content/gdrive')\n",
        "import sys\n",
        "sys.path.append('/content/gdrive/My Drive')"
      ],
      "execution_count": 93,
      "outputs": [
        {
          "output_type": "stream",
          "text": [
            "Drive already mounted at /content/gdrive; to attempt to forcibly remount, call drive.mount(\"/content/gdrive\", force_remount=True).\n"
          ],
          "name": "stdout"
        }
      ]
    },
    {
      "cell_type": "code",
      "metadata": {
        "id": "A_FmVGc0tqQw",
        "colab_type": "code",
        "outputId": "6a4a8e0f-89de-422a-e1d9-1b26a8fffad2",
        "colab": {
          "base_uri": "https://localhost:8080/",
          "height": 34
        }
      },
      "source": [
        "%cd '/content/gdrive/My Drive/Colab Notebooks/S14/DenseDepth'\n"
      ],
      "execution_count": 94,
      "outputs": [
        {
          "output_type": "stream",
          "text": [
            "/content/gdrive/My Drive/Colab Notebooks/S14/DenseDepth\n"
          ],
          "name": "stdout"
        }
      ]
    },
    {
      "cell_type": "code",
      "metadata": {
        "id": "CojcFALuJoNl",
        "colab_type": "code",
        "outputId": "0c7c15f8-a741-4892-b953-9140a8eee4c1",
        "colab": {
          "base_uri": "https://localhost:8080/",
          "height": 34
        }
      },
      "source": [
        "import time\n",
        "import glob\n",
        "import torch\n",
        "import os\n",
        "\n",
        "from IPython.display import Image, clear_output \n",
        "print('PyTorch %s %s' % (torch.__version__, torch.cuda.get_device_properties(0) if torch.cuda.is_available() else 'CPU'))"
      ],
      "execution_count": 0,
      "outputs": [
        {
          "output_type": "stream",
          "text": [
            "PyTorch 1.5.0+cu101 CPU\n"
          ],
          "name": "stdout"
        }
      ]
    },
    {
      "cell_type": "code",
      "metadata": {
        "id": "uxKPq3KDWw4p",
        "colab_type": "code",
        "outputId": "431c0dbf-d850-4cc3-c047-bf1dc6d9f47c",
        "colab": {
          "base_uri": "https://localhost:8080/",
          "height": 202
        }
      },
      "source": [
        "!python test.py  --st 40000 --sp 42000 --bs 20"
      ],
      "execution_count": 0,
      "outputs": [
        {
          "output_type": "stream",
          "text": [
            "Using TensorFlow backend.\n",
            "Loading model...\n",
            "\n",
            "Model loaded (nyu.h5).\n",
            "tcmalloc: large alloc 2408448000 bytes == 0xaa122000 @  0x7f00ad1f81e7 0x7f00a9c2d5e1 0x7f00a9c91c78 0x7f00a9c91d93 0x7f00a9d2fea8 0x7f00a9d30704 0x7f00a9d30852 0x566d63 0x59fc4e 0x7f00a9c7d4ed 0x50a2bf 0x50bfb4 0x507d64 0x509a90 0x50a48d 0x50cd96 0x507d64 0x588e5c 0x59fc4e 0x7f00a9c7d4ed 0x50a2bf 0x50bfb4 0x507d64 0x509a90 0x50a48d 0x50cd96 0x509758 0x50a48d 0x50bfb4 0x507d64 0x50ae13\n",
            "\n",
            "Loaded (2000) images of size (224, 224, 3).\n",
            "2000\n"
          ],
          "name": "stdout"
        }
      ]
    },
    {
      "cell_type": "code",
      "metadata": {
        "id": "TaeqkkUAQQTo",
        "colab_type": "code",
        "colab": {}
      },
      "source": [
        "import zipfile\n",
        "out_depthimages = zipfile.ZipFile('depth_images.zip', mode='a', compression=zipfile.ZIP_STORED)\n",
        "out_bgfgimages = zipfile.ZipFile('bgfg_images.zip', mode='a', compression=zipfile.ZIP_STORED)\n",
        "out_maskimages = zipfile.ZipFile('fgmask_images.zip', mode='a', compression=zipfile.ZIP_STORED)\n",
        "\n",
        "\n"
      ],
      "execution_count": 0,
      "outputs": []
    },
    {
      "cell_type": "code",
      "metadata": {
        "id": "ujexOLaKqj-K",
        "colab_type": "code",
        "outputId": "34a130fd-6ce6-4048-8b85-41f02c0311a3",
        "colab": {
          "base_uri": "https://localhost:8080/",
          "height": 1000
        }
      },
      "source": [
        "\n",
        "\"\"\" ----------- Read all images --------------------\"\"\"\n",
        "\n",
        "import os\n",
        "import cv2\n",
        "import sys\n",
        "import glob\n",
        "import random\n",
        "import numpy as np\n",
        "import matplotlib\n",
        "\n",
        "images_bg= glob.glob(\"/content/gdrive/My Drive/Colab Notebooks/S14/DenseDepth/background/*\")\n",
        "\n",
        "images_fg= glob.glob(\"/content/gdrive/My Drive/Colab Notebooks/S14/DenseDepth/foreground/*\")\n",
        "\n",
        "for_mask= glob.glob(\"/content/gdrive/My Drive/Colab Notebooks/S14/DenseDepth/foreground_mask/*\")\n",
        "\n",
        "target=\"/content/gdrive/My Drive/Colab Notebooks/S14/DenseDepth/overlay_bg_fg/\"\n",
        "\n",
        "maskpath=\"/content/gdrive/My Drive/Colab Notebooks/S14/DenseDepth/overlay_mask/\"\n",
        "\n",
        "\n",
        "\n",
        "images_bg_sub=images_bg[50:100]\n",
        "from PIL import Image\n",
        "import zipfile\n",
        "# out_depthimages = zipfile.ZipFile('depth_images.zip', mode='a', compression=zipfile.ZIP_STORED)\n",
        "out_bgfgimages = zipfile.ZipFile('bgfg_images.zip', mode='a', compression=zipfile.ZIP_STORED)\n",
        "out_maskimages = zipfile.ZipFile('fgmask_images.zip', mode='a', compression=zipfile.ZIP_STORED)\n",
        "\n",
        "\n",
        "from pathlib import Path\n",
        "\n",
        "Path(f'overlayed_bg_fg/').mkdir(parents=True, exist_ok=True)\n",
        "Path(f'overlayed_mask/').mkdir(parents=True, exist_ok=True)\n",
        "# Path(f'depth_map/').mkdir(parents=True, exist_ok=True)\n",
        "\n",
        "import time\n",
        "start = time.process_time()\n",
        "\n",
        "for bg in images_bg_sub:\n",
        "\n",
        "  out_bgfgimages = zipfile.ZipFile('bgfg_images.zip', mode='a', compression=zipfile.ZIP_STORED)\n",
        "  out_maskimages = zipfile.ZipFile('fgmask_images.zip', mode='a', compression=zipfile.ZIP_STORED)\n",
        "\n",
        "  for fg in images_fg:\n",
        "    filen = fg.split('foreground/')[1]\n",
        "    fi = filen.split('.png')[0]\n",
        "    fg_mask=Image.open('/content/gdrive/My Drive/Colab Notebooks/S14/DenseDepth/foreground_mask/'+fi+'_M.jpg')\n",
        "    for i in range(20):\n",
        "\t\t\t#reading background image\n",
        "      src = Image.open(bg)\n",
        "      h1,w1=src.size\n",
        "\n",
        "      filename = bg.split('background/')[1]\n",
        "      file = filename.split('.jpg')[0]\n",
        "\t\t\t\n",
        "\t\t\t#reading overlay image\n",
        "      overlay = Image.open(fg)\n",
        "      lay = cv2.imread(fg,cv2.IMREAD_UNCHANGED)\n",
        "      h2,w2=overlay.size\n",
        "\n",
        "      filenam = fg.split('foreground/')[1]\n",
        "      fil = filenam.split('.png')[0]\n",
        "\t\t\t\n",
        "\t\t\t#initializing random numbers for position to place overlay image\n",
        "      m=random.randint(1,(h1-h2))\n",
        "\t\t\t# print(h1,h2,m)\n",
        "      n=random.randint(1,(w1-w2))\n",
        "      src.paste(overlay,(m,n),overlay)\n",
        "      \n",
        "      src.save('b_temp.jpg',optimize=True,quality=30)\n",
        "\n",
        "              \n",
        "\t\t\t\n",
        "\t\t\t#Creating mask\n",
        "      mask =Image.new('L',src.size)\n",
        "\n",
        "      mask.paste(fg_mask,(m,n),fg_mask)\n",
        "\t\t\t\n",
        "      mask.save('m_temp.jpg',optimize=True,quality=30)\n",
        "        \n",
        "      # save the files to .zip file\n",
        "      out_bgfgimages.write('b_temp.jpg', f'overlayed_bg_fg/{file+\"_\"+fil+\"_\"+str(i+1)+\".jpg\"}')\n",
        "      out_maskimages.write('m_temp.jpg', f'foreground_mask/{file+\"_\"+fil+\"_\"+str(i+1)+\"_M.jpg\"}')\n",
        "                \n",
        "\n",
        "      del mask,src,overlay\n",
        "  out_bgfgimages.close()\n",
        "  out_maskimages.close()\n",
        "\n",
        "  print(\"Generated overlay,mask for\",file)\n",
        "  print(time.process_time() - start)\n",
        "\n",
        "\n"
      ],
      "execution_count": 0,
      "outputs": [
        {
          "output_type": "stream",
          "text": [
            "Generated overlay,mask for B53\n",
            "32.79850071499982\n",
            "Generated overlay,mask for B49\n",
            "65.62571461499988\n",
            "Generated overlay,mask for B57\n",
            "97.86103039499994\n",
            "Generated overlay,mask for B36\n",
            "130.87488706099998\n",
            "Generated overlay,mask for B38\n",
            "164.56828115199983\n",
            "Generated overlay,mask for B47\n",
            "197.6640377639999\n",
            "Generated overlay,mask for B65\n",
            "229.60783980399992\n",
            "Generated overlay,mask for B54\n",
            "262.4364383279999\n",
            "Generated overlay,mask for B45\n",
            "294.94776951999984\n",
            "Generated overlay,mask for B37\n",
            "328.39277331899984\n",
            "Generated overlay,mask for B64\n",
            "361.265134665\n",
            "Generated overlay,mask for B72\n",
            "393.919397677\n",
            "Generated overlay,mask for B73\n",
            "427.668475556\n",
            "Generated overlay,mask for B8\n",
            "461.268539811\n",
            "Generated overlay,mask for B56\n",
            "494.5597474269998\n",
            "Generated overlay,mask for B87\n",
            "528.9997557009999\n",
            "Generated overlay,mask for B89\n",
            "564.1406583569999\n",
            "Generated overlay,mask for B82\n",
            "598.7330651609998\n",
            "Generated overlay,mask for B77\n",
            "633.783019922\n",
            "Generated overlay,mask for B74\n",
            "668.204437874\n",
            "Generated overlay,mask for B80\n",
            "702.4478669739999\n",
            "Generated overlay,mask for B75\n",
            "735.8599361250001\n",
            "Generated overlay,mask for B88\n",
            "770.9249429539998\n",
            "Generated overlay,mask for B84\n",
            "805.963670031\n",
            "Generated overlay,mask for B90\n",
            "841.2987581219998\n",
            "Generated overlay,mask for B79\n",
            "875.9542971439998\n",
            "Generated overlay,mask for B83\n",
            "911.3701643480001\n",
            "Generated overlay,mask for B70\n",
            "945.729547441\n",
            "Generated overlay,mask for B39\n",
            "981.889077564\n",
            "Generated overlay,mask for B85\n",
            "1017.4573833080001\n",
            "Generated overlay,mask for B69\n",
            "1056.2210638899999\n",
            "Generated overlay,mask for B81\n",
            "1092.9013685839998\n",
            "Generated overlay,mask for B94\n",
            "1129.2368362629998\n",
            "Generated overlay,mask for B93\n",
            "1165.1933303039998\n",
            "Generated overlay,mask for B98\n",
            "1200.759523464\n",
            "Generated overlay,mask for B91\n",
            "1237.760753585\n",
            "Generated overlay,mask for B92\n",
            "1273.347072411\n",
            "Generated overlay,mask for B99\n",
            "1309.259603493\n",
            "Generated overlay,mask for B97\n",
            "1346.387295406\n",
            "Generated overlay,mask for B3\n",
            "1383.2687218889998\n",
            "Generated overlay,mask for B6\n",
            "1419.068483506\n",
            "Generated overlay,mask for B100\n",
            "1454.5824021339997\n",
            "Generated overlay,mask for B96\n",
            "1490.658943786\n",
            "Generated overlay,mask for B4\n",
            "1527.010229879\n",
            "Generated overlay,mask for B5\n",
            "1563.7908868729999\n",
            "Generated overlay,mask for B13\n",
            "1600.2760940619999\n",
            "Generated overlay,mask for B9\n",
            "1638.6943525919999\n",
            "Generated overlay,mask for B11\n",
            "1674.4409087669999\n",
            "Generated overlay,mask for B14\n",
            "1710.9491144319998\n",
            "Generated overlay,mask for B10\n",
            "1748.96284437\n"
          ],
          "name": "stdout"
        }
      ]
    },
    {
      "cell_type": "code",
      "metadata": {
        "id": "pxmrYv9FJOOD",
        "colab_type": "code",
        "colab": {
          "base_uri": "https://localhost:8080/",
          "height": 71
        },
        "outputId": "99af761a-6622-4a67-eba9-c1487697a9f3"
      },
      "source": [
        "\n",
        "import os\n",
        "import cv2\n",
        "import sys\n",
        "import glob\n",
        "import random\n",
        "import numpy as np\n",
        "import matplotlib\n",
        "\n",
        "images_bg= glob.glob(\"/content/gdrive/My Drive/Colab Notebooks/S14/DenseDepth/background/*\")\n",
        "\n",
        "images_fg= glob.glob(\"/content/gdrive/My Drive/Colab Notebooks/S14/DenseDepth/diag/*\")\n",
        "\n",
        "for_mask= glob.glob(\"/content/gdrive/My Drive/Colab Notebooks/S14/DenseDepth/diag1/*\")\n",
        "\n",
        "bglis=[]\n",
        "for image in images_bg:\n",
        "  imgs=image.split('/')[-1]\n",
        "  img=imgs.split('.jpg')[0]\n",
        "  if img in [\"B17\",\"B18\",\"B19\",\"B20\",\"B21\",\"B22\",\"B23\",\"B24\",\"B25\",\"B26\"]:\n",
        "    bglis.append(image)\n",
        "\n",
        "fglis=[]\n",
        "for image in images_fg:\n",
        "  imgs=image.split('/')[-1]\n",
        "  img=imgs.split('.jpg')[0]\n",
        "  if img in [\"F1\",\"F2\",\"F64\",\"F66\",\"F86\",\"F16\",\"F12\",\"F8\",\"F6\",\"F32\"]:\n",
        "    fglis.append(image)\n",
        "\n",
        "masklis=[]\n",
        "for image in for_mask:\n",
        "  imgs=image.split('/')[-1]\n",
        "  img=imgs.split('.jpg')[0]\n",
        "  if img in [\"F1\",\"F2\",\"F64\",\"F66\",\"F86\",\"F16\",\"F12\",\"F8\",\"F6\",\"F32\"]:\n",
        "    masklis.append(image)\n",
        "# # print(fglis)\n",
        "fglist=sorted(fglis)\n",
        "print(fglist)\n",
        "masklist=sorted(masklis)\n",
        "print(masklist)\n"
      ],
      "execution_count": 56,
      "outputs": [
        {
          "output_type": "stream",
          "text": [
            "['/content/gdrive/My Drive/Colab Notebooks/S14/DenseDepth/diag/F1.jpg', '/content/gdrive/My Drive/Colab Notebooks/S14/DenseDepth/diag/F12.jpg', '/content/gdrive/My Drive/Colab Notebooks/S14/DenseDepth/diag/F16.jpg', '/content/gdrive/My Drive/Colab Notebooks/S14/DenseDepth/diag/F2.jpg', '/content/gdrive/My Drive/Colab Notebooks/S14/DenseDepth/diag/F32.jpg', '/content/gdrive/My Drive/Colab Notebooks/S14/DenseDepth/diag/F6.jpg', '/content/gdrive/My Drive/Colab Notebooks/S14/DenseDepth/diag/F64.jpg', '/content/gdrive/My Drive/Colab Notebooks/S14/DenseDepth/diag/F66.jpg', '/content/gdrive/My Drive/Colab Notebooks/S14/DenseDepth/diag/F8.jpg', '/content/gdrive/My Drive/Colab Notebooks/S14/DenseDepth/diag/F86.jpg']\n",
            "['/content/gdrive/My Drive/Colab Notebooks/S14/DenseDepth/diag1/F1.jpg', '/content/gdrive/My Drive/Colab Notebooks/S14/DenseDepth/diag1/F12.jpg', '/content/gdrive/My Drive/Colab Notebooks/S14/DenseDepth/diag1/F16.jpg', '/content/gdrive/My Drive/Colab Notebooks/S14/DenseDepth/diag1/F2.jpg', '/content/gdrive/My Drive/Colab Notebooks/S14/DenseDepth/diag1/F32.jpg', '/content/gdrive/My Drive/Colab Notebooks/S14/DenseDepth/diag1/F6.jpg', '/content/gdrive/My Drive/Colab Notebooks/S14/DenseDepth/diag1/F64.jpg', '/content/gdrive/My Drive/Colab Notebooks/S14/DenseDepth/diag1/F66.jpg', '/content/gdrive/My Drive/Colab Notebooks/S14/DenseDepth/diag1/F8.jpg', '/content/gdrive/My Drive/Colab Notebooks/S14/DenseDepth/diag1/F86.jpg']\n"
          ],
          "name": "stdout"
        }
      ]
    },
    {
      "cell_type": "code",
      "metadata": {
        "id": "gzYJuUUDkftq",
        "colab_type": "code",
        "colab": {
          "base_uri": "https://localhost:8080/",
          "height": 88
        },
        "outputId": "e18b44bc-3646-4336-c9d3-dfb557e6e37d"
      },
      "source": [
        "\n",
        "import os\n",
        "import cv2\n",
        "import sys\n",
        "import glob\n",
        "import random\n",
        "import numpy as np\n",
        "import matplotlib\n",
        "from zipfile import ZipFile\n",
        "\n",
        "images_bg1=\"/content/gdrive/My Drive/Colab Notebooks/S14/DenseDepth/bgfg_images.zip\"\n",
        "\n",
        "images_fg1=\"/content/gdrive/My Drive/Colab Notebooks/S14/DenseDepth/fgmask_images.zip\"\n",
        "\n",
        "for_mask1=\"/content/gdrive/My Drive/Colab Notebooks/S14/DenseDepth/depthimages.zip\"\n",
        "\n",
        "with ZipFile(images_bg1, 'r') as zip:\n",
        "    inflist=zip.namelist() \n",
        "    bglis1=[]\n",
        "    for image in inflist:\n",
        "      imgs=image.split('/')[-1]\n",
        "      img=imgs.split('.jpg')[0]\n",
        "      if img in [\"B17_F1_6\",\"B17_F2_7\",\"B17_F64_6\",\"B17_F66_4\",\"B17_F86_16\",\"B17_F16_17\",\"B17_F12_2\",\"B17_F8_8\",\"B17_F6_11\",\"B17_F32_5\"]:\n",
        "        bglis1.append(image)\n",
        "\n",
        "with ZipFile(images_fg1, 'r') as zip:\n",
        "    inflist=zip.namelist() \n",
        "    fglis1=[]\n",
        "    for image in inflist:\n",
        "      imgs=image.split('/')[-1]\n",
        "      img=imgs.split('_M.jpg')[0]\n",
        "      if img in [\"B17_F1_6\",\"B17_F2_7\",\"B17_F64_6\",\"B17_F66_4\",\"B17_F86_16\",\"B17_F16_17\",\"B17_F12_2\",\"B17_F8_8\",\"B17_F6_11\",\"B17_F32_5\"]:\n",
        "        fglis1.append(image)\n",
        "\n",
        "with ZipFile(for_mask1, 'r') as zip:\n",
        "    inflist=zip.namelist() \n",
        "    inflist1=zip.infolist()\n",
        "    masklis1=[]\n",
        "    for image in inflist:\n",
        "      imgs=image.split('/')[-1]\n",
        "      img=imgs.split('_D.jpg')[0]\n",
        "      if img in [\"B17_F1_6\",\"B17_F2_7\",\"B17_F64_6\",\"B17_F66_4\",\"B17_F86_16\",\"B17_F16_17\",\"B17_F12_2\",\"B17_F8_8\",\"B17_F6_11\",\"B17_F32_5\"]:\n",
        "        masklis1.append(image)\n",
        "bglist1=sorted(bglis1)\n",
        "print(bglist1)\n",
        "fglist1=sorted(fglis1)\n",
        "print(fglist1)\n",
        "masklist1=sorted(masklis1)\n",
        "print(masklist1)\n"
      ],
      "execution_count": 84,
      "outputs": [
        {
          "output_type": "stream",
          "text": [
            "['overlayed_bg_fg/B17_F12_2.jpg', 'overlayed_bg_fg/B17_F16_17.jpg', 'overlayed_bg_fg/B17_F1_6.jpg', 'overlayed_bg_fg/B17_F2_7.jpg', 'overlayed_bg_fg/B17_F32_5.jpg', 'overlayed_bg_fg/B17_F64_6.jpg', 'overlayed_bg_fg/B17_F66_4.jpg', 'overlayed_bg_fg/B17_F6_11.jpg', 'overlayed_bg_fg/B17_F86_16.jpg', 'overlayed_bg_fg/B17_F8_8.jpg']\n",
            "['foreground_mask/B17_F12_2_M.jpg', 'foreground_mask/B17_F16_17_M.jpg', 'foreground_mask/B17_F1_6_M.jpg', 'foreground_mask/B17_F2_7_M.jpg', 'foreground_mask/B17_F32_5_M.jpg', 'foreground_mask/B17_F64_6_M.jpg', 'foreground_mask/B17_F66_4_M.jpg', 'foreground_mask/B17_F6_11_M.jpg', 'foreground_mask/B17_F86_16_M.jpg', 'foreground_mask/B17_F8_8_M.jpg']\n",
            "['depth/B17_F12_2_D.jpg', 'depth/B17_F16_17_D.jpg', 'depth/B17_F1_6_D.jpg', 'depth/B17_F2_7_D.jpg', 'depth/B17_F32_5_D.jpg', 'depth/B17_F64_6_D.jpg', 'depth/B17_F66_4_D.jpg', 'depth/B17_F6_11_D.jpg', 'depth/B17_F86_16_D.jpg', 'depth/B17_F8_8_D.jpg']\n"
          ],
          "name": "stdout"
        }
      ]
    },
    {
      "cell_type": "code",
      "metadata": {
        "id": "Sv9wdYfjKLMN",
        "colab_type": "code",
        "colab": {}
      },
      "source": [
        "from IPython.display import display\n",
        "from IPython.display import HTML\n",
        "from PIL import Image\n",
        "from io import BytesIO\n",
        "import glob\n",
        "import random\n",
        "import base64\n",
        "import pandas as pd\n",
        "\n",
        "def get_thumbnail(img):\n",
        "  i = Image.open(img)\n",
        "  i.thumbnail((70, 70), Image.LANCZOS)\n",
        "  return i\n",
        "  \n",
        "def get_thumbnail_from_image(img):\n",
        "  i = img.copy()\n",
        "  i.thumbnail((70, 70), Image.LANCZOS)\n",
        "  return i\n",
        "\n",
        "def image_base64(im):\n",
        "  if isinstance(im, str):\n",
        "    im = get_thumbnail(im)\n",
        "  with BytesIO() as buffer:\n",
        "    im.save(buffer, 'jpeg')\n",
        "    return base64.b64encode(buffer.getvalue()).decode()\n",
        "\n",
        "def image_formatter(im):\n",
        "  return f'<img style=\"display:inline;margin:1px\" src=\"data:image/jpeg;base64,{image_base64(im)}\">'\n",
        "  \n",
        "def preview_images(imglis):\n",
        "  images = list(map(lambda x:image_formatter(get_thumbnail(x)), imglis))\n",
        "  display(HTML(''.join(images)))\n",
        "\n",
        "def preview_images1(imglis):\n",
        "  images = list(map(lambda x:image_formatter(get_thumbnail(zip.open(x))), imglis))\n",
        "  display(HTML(''.join(images)))\n"
      ],
      "execution_count": 0,
      "outputs": []
    },
    {
      "cell_type": "code",
      "metadata": {
        "id": "GWr-toteRkVO",
        "colab_type": "code",
        "outputId": "675deb25-7acb-4a9f-e049-827f2e36308d",
        "colab": {
          "base_uri": "https://localhost:8080/",
          "height": 575
        }
      },
      "source": [
        "\n",
        "print(\"1) Background images\")\n",
        "preview_images(bglis)\n",
        "print(\"2) Foreground images\")\n",
        "preview_images(fglist)\n",
        "print(\"3) Foreground mask images\")\n",
        "preview_images(masklist)\n",
        "print(\"4) Overlayed foreground on background images\")\n",
        "with ZipFile(images_bg1, 'r') as zip:\n",
        "    inflist=zip.namelist() \n",
        "    preview_images1(bglist1)\n",
        "print(\"5) Overlayed mask images\")\n",
        "with ZipFile(images_fg1, 'r') as zip:\n",
        "    inflist=zip.namelist() \n",
        "    preview_images1(fglist1)\n",
        "print(\"5) Depth Images\")\n",
        "with ZipFile(for_mask1, 'r') as zip:\n",
        "    inflist=zip.namelist() \n",
        "    preview_images1(masklist1)"
      ],
      "execution_count": 92,
      "outputs": [
        {
          "output_type": "stream",
          "text": [
            "1) Background images\n"
          ],
          "name": "stdout"
        },
        {
          "output_type": "display_data",
          "data": {
            "text/html": [
              "<img style=\"display:inline;margin:1px\" src=\"data:image/jpeg;base64,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\"><img style=\"display:inline;margin:1px\" src=\"data:image/jpeg;base64,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\"><img style=\"display:inline;margin:1px\" src=\"data:image/jpeg;base64,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\"><img style=\"display:inline;margin:1px\" src=\"data:image/jpeg;base64,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\"><img style=\"display:inline;margin:1px\" src=\"data:image/jpeg;base64,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\"><img style=\"display:inline;margin:1px\" src=\"data:image/jpeg;base64,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\"><img style=\"display:inline;margin:1px\" src=\"data:image/jpeg;base64,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\"><img style=\"display:inline;margin:1px\" src=\"data:image/jpeg;base64,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\"><img style=\"display:inline;margin:1px\" src=\"data:image/jpeg;base64,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\"><img style=\"display:inline;margin:1px\" src=\"data:image/jpeg;base64,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\">"
            ],
            "text/plain": [
              "<IPython.core.display.HTML object>"
            ]
          },
          "metadata": {
            "tags": []
          }
        },
        {
          "output_type": "stream",
          "text": [
            "2) Foreground images\n"
          ],
          "name": "stdout"
        },
        {
          "output_type": "display_data",
          "data": {
            "text/html": [
              "<img style=\"display:inline;margin:1px\" src=\"data:image/jpeg;base64,/9j/4AAQSkZJRgABAQAAAQABAAD/2wBDAAgGBgcGBQgHBwcJCQgKDBQNDAsLDBkSEw8UHRofHh0aHBwgJC4nICIsIxwcKDcpLDAxNDQ0Hyc5PTgyPC4zNDL/2wBDAQkJCQwLDBgNDRgyIRwhMjIyMjIyMjIyMjIyMjIyMjIyMjIyMjIyMjIyMjIyMjIyMjIyMjIyMjIyMjIyMjIyMjL/wAARCABGAEYDASIAAhEBAxEB/8QAHwAAAQUBAQEBAQEAAAAAAAAAAAECAwQFBgcICQoL/8QAtRAAAgEDAwIEAwUFBAQAAAF9AQIDAAQRBRIhMUEGE1FhByJxFDKBkaEII0KxwRVS0fAkM2JyggkKFhcYGRolJicoKSo0NTY3ODk6Q0RFRkdISUpTVFVWV1hZWmNkZWZnaGlqc3R1dnd4eXqDhIWGh4iJipKTlJWWl5iZmqKjpKWmp6ipqrKztLW2t7i5usLDxMXGx8jJytLT1NXW19jZ2uHi4+Tl5ufo6erx8vP09fb3+Pn6/8QAHwEAAwEBAQEBAQEBAQAAAAAAAAECAwQFBgcICQoL/8QAtREAAgECBAQDBAcFBAQAAQJ3AAECAxEEBSExBhJBUQdhcRMiMoEIFEKRobHBCSMzUvAVYnLRChYkNOEl8RcYGRomJygpKjU2Nzg5OkNERUZHSElKU1RVVldYWVpjZGVmZ2hpanN0dXZ3eHl6goOEhYaHiImKkpOUlZaXmJmaoqOkpaanqKmqsrO0tba3uLm6wsPExcbHyMnK0tPU1dbX2Nna4uPk5ebn6Onq8vP09fb3+Pn6/9oADAMBAAIRAxEAPwD3+iiigArn/G0d9L4TvI9PupLaZtoMsYywQsA2PQ4zzW9JIsUbSOdqKCzH0ArxjxP8YJJrK9tbDS08l45IxJO5JYdAcDGPzpNjW5c8I6LLpHiWxlsNS1R1lci5iupAylSDkEf3sgHNeu18j+F/F+u6b4gtbqK4EsibsiVdwYFcc/417l4T+Jkut6zBpl9ZRQNOCEkjc/eAzgg+tRC8dJMqbTd4no1FFFaEBRRRQAUUUUAZXiZ2TwvqjIxVhayYIOCPlNfMG5XuZYmGcY/UV9O+KP8AkVdV/wCvWT/0GvmRYgbmR/UgZ+grOY0QWVj9juJ5FAI+6h9B3/wrV0O6eHX7aaMgSQzRkZ9d1NbKQHafoPSotDQtq6ykcmVAP++hU3uM+q6KKK2JCiiigAooooAq6laLf6bdWj52zRMh2nnkV8463pT6PqlxaCKSMKcr5wIJHr7jOa+mK8i+MMKrqWmzgne8LIfTAb/65qJq+o0+h5VDM0krxFxkYOD0/CvUPhz4f0rVvIm8lfNsXEkrqxDM/UZ9s549AK4g6SsXhCy1bydskt/NC0ufvKFXaMfUNXo/wbjXyNWl8wFjIi7O+ACc/rUJalc1kz1KiiitiAooooAKKKKACvJPjKcXGl/9c5P5ivW68u+MkKfY9Lm2/vN8iZ9sA1MthoyZdKh/4URFO+WkSX7TGem1jJtx+RNa3wYtwNN1O5Ibc0ypnsQBn+tVL6eO2+AVvvOA4VAc9CZa6f4V2ZtfA1tIc/6RI83J4wTgY/KklqB2tFFFWIKKKKACiiigArzX41eafCltHCIxJJcBRK33k47HtnvRRQBNf+BJfEnw50LRk1AWn2dI5ZHVCwf5TnjI7nNdnoWkRaDodnpcLl47aMIGbqfeiigDRooooAKKKKAP/9k=\"><img style=\"display:inline;margin:1px\" src=\"data:image/jpeg;base64,/9j/4AAQSkZJRgABAQAAAQABAAD/2wBDAAgGBgcGBQgHBwcJCQgKDBQNDAsLDBkSEw8UHRofHh0aHBwgJC4nICIsIxwcKDcpLDAxNDQ0Hyc5PTgyPC4zNDL/2wBDAQkJCQwLDBgNDRgyIRwhMjIyMjIyMjIyMjIyMjIyMjIyMjIyMjIyMjIyMjIyMjIyMjIyMjIyMjIyMjIyMjIyMjL/wAARCABGAEYDASIAAhEBAxEB/8QAHwAAAQUBAQEBAQEAAAAAAAAAAAECAwQFBgcICQoL/8QAtRAAAgEDAwIEAwUFBAQAAAF9AQIDAAQRBRIhMUEGE1FhByJxFDKBkaEII0KxwRVS0fAkM2JyggkKFhcYGRolJicoKSo0NTY3ODk6Q0RFRkdISUpTVFVWV1hZWmNkZWZnaGlqc3R1dnd4eXqDhIWGh4iJipKTlJWWl5iZmqKjpKWmp6ipqrKztLW2t7i5usLDxMXGx8jJytLT1NXW19jZ2uHi4+Tl5ufo6erx8vP09fb3+Pn6/8QAHwEAAwEBAQEBAQEBAQAAAAAAAAECAwQFBgcICQoL/8QAtREAAgECBAQDBAcFBAQAAQJ3AAECAxEEBSExBhJBUQdhcRMiMoEIFEKRobHBCSMzUvAVYnLRChYkNOEl8RcYGRomJygpKjU2Nzg5OkNERUZHSElKU1RVVldYWVpjZGVmZ2hpanN0dXZ3eHl6goOEhYaHiImKkpOUlZaXmJmaoqOkpaanqKmqsrO0tba3uLm6wsPExcbHyMnK0tPU1dbX2Nna4uPk5ebn6Onq8vP09fb3+Pn6/9oADAMBAAIRAxEAPwD3+iiigArK8SC8Ph68XT7g290yYSYDJTJAJHvjNX7u6hsbSW6nbbFEpZj7VxOo/EO3kRorWweWNvlZpGxle+AO+KLN7AnZmXo+j6hZa3Y3ltrWr3UjTKt1HdyIVZScMDjoQOce1eoV5ylrD4Ssv7dtL+TUEnZUt45SAAGPOcdSAOtbOg+N49VvorG4tvJmlB2sr5Ukc4qYRklqXNpvQ62iiiqICiiigAooooA5b4gXhtfCkyjGZ3WLJ7Dr/SvILWaQplkYYJK5H31BxkfkR9RXqPxNtGn0S1lKkxQz/PgnjIwD+deaXssaT2UMQYLFYQr8xySSCx/UmtIbCYSX08sKQK7mPcNke7PzEgZA9TxUNpcHTdagv4YWTdLvEmT87qRkfkR+dVZbx7FIZ44wzwsJFjY4DbTnGa7vw5B/wmd48V2scFrCBNiEkyOTx1xgds9zxTlJp7aDSVt9T1Czuor6zhuoW3RSoHU+xqeora3itLaO3gQJFGoVVHYCpayAKKKKACiiigCC8tIb60ltZ03RSrtYe1ePeN9KOmXUTTwoksmVikj/AOWgB6nHTg17RXA/FaNP7AtJiPnS4wpz0BU5/lQlqhqVk0eUXVyiulmY1k39fpXf/Cy1EOpThpCTHbgKAeCM45/SuSi06C58J6nqbD9/bXUChiOikEH88j8hXR/Dm4RPE0KHOZIHVfrwf6VtLVMk9gooorEYUUUUAFFFFABXEfFKFpfCqOpGI7hSw9cgj+tdvXjPxO1TxBP4ug0LTjNcWsoizaRgfMWzzn2xn8DQnZha5w8ur30FlNpEU3l2tyyzS7B8zEcAZ9PavWfhx4OuNNij1bUSRO6fuYj1RT3PuR2rj/Aml2F14xig1WDzJId/lBvulx/eHfoeK90GAOKuT6CQtFFFQMKKKKACiiigArGXw/EPFba8ZCzm2ECxlR8pzy2fpgfn60UUAeYa3pGpeHviR/bNvcQSQvceaICSowRyMAYHXrXs0bb41bGMgHFFFSnqypbIdRRRVEhRRRQB/9k=\"><img style=\"display:inline;margin:1px\" src=\"data:image/jpeg;base64,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\"><img style=\"display:inline;margin:1px\" src=\"data:image/jpeg;base64,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\"><img style=\"display:inline;margin:1px\" src=\"data:image/jpeg;base64,/9j/4AAQSkZJRgABAQAAAQABAAD/2wBDAAgGBgcGBQgHBwcJCQgKDBQNDAsLDBkSEw8UHRofHh0aHBwgJC4nICIsIxwcKDcpLDAxNDQ0Hyc5PTgyPC4zNDL/2wBDAQkJCQwLDBgNDRgyIRwhMjIyMjIyMjIyMjIyMjIyMjIyMjIyMjIyMjIyMjIyMjIyMjIyMjIyMjIyMjIyMjIyMjL/wAARCABGAEYDASIAAhEBAxEB/8QAHwAAAQUBAQEBAQEAAAAAAAAAAAECAwQFBgcICQoL/8QAtRAAAgEDAwIEAwUFBAQAAAF9AQIDAAQRBRIhMUEGE1FhByJxFDKBkaEII0KxwRVS0fAkM2JyggkKFhcYGRolJicoKSo0NTY3ODk6Q0RFRkdISUpTVFVWV1hZWmNkZWZnaGlqc3R1dnd4eXqDhIWGh4iJipKTlJWWl5iZmqKjpKWmp6ipqrKztLW2t7i5usLDxMXGx8jJytLT1NXW19jZ2uHi4+Tl5ufo6erx8vP09fb3+Pn6/8QAHwEAAwEBAQEBAQEBAQAAAAAAAAECAwQFBgcICQoL/8QAtREAAgECBAQDBAcFBAQAAQJ3AAECAxEEBSExBhJBUQdhcRMiMoEIFEKRobHBCSMzUvAVYnLRChYkNOEl8RcYGRomJygpKjU2Nzg5OkNERUZHSElKU1RVVldYWVpjZGVmZ2hpanN0dXZ3eHl6goOEhYaHiImKkpOUlZaXmJmaoqOkpaanqKmqsrO0tba3uLm6wsPExcbHyMnK0tPU1dbX2Nna4uPk5ebn6Onq8vP09fb3+Pn6/9oADAMBAAIRAxEAPwD3+mTSpDE8sjBURSzMegAp9cX8T/EEGheD7iOQEy3wNvH6DI5J+gpN2VxxV3Y4b7Td+N7nUdQn1HU4IUkMdtDZuETCngZzy3fmun+G3iDUJL3UvDerXDXF1YkPFO5yzxnsfccV5B4G1+x0y4vpL/U5YI32hYhGWDkfxDg4OMCmnxdDpnjRdb8Px3MeJC8ouJci4zwcjsD9awpxqc/kdVT2fJZbn1OKKo6NqS6vo1nqKRmNbmJZAjHJXI6VeroOQKKKKACiiigAr59+JN1deLfHl1pFpOwt9OtpHfug2Lufp07D619BV8p+M7+7sPG3iFba4khW5nkhmCNjehOdp9uKaipDTa2MSRkFohVId4GGwq4x2xUGn20t/qEUEKFpJXWNABnJJqAncMDqa9W+C/hVNQ1d9amkXy9PYBIx1aQjgn2ArTSKC9z23QdJj0PQrPTYiStvEFye57n860qB0orIQUUUUAFFFFABXz74hl8Oad4r8Vab4giLm5l8yG4SDc6blzgHtg4PvX0FXzf8aLH7L47eZY2VbmBJNxPDHocflTUebQqMuV3Oe1HRdD0/w3Z31pqlxdX07lVzblYnAPzEZwRt6e5rv/gXqDRatqempvaCWIT5bGQynH65/So9M8ODX/gSjKpa6sZpp4cDJ4PzD8RmsH4SX4svHtpG7Oq3CtFhehJHGapL3XdibufSlFAoqBBRRRQAUUUUAFeJfHy3QSaLcBB5hEiF++Bggfzr22vN/jXZLc+CopQrtNFdp5YXuWyCMd6cdwND4UTRXPw509VhCBN8bjj5yGOT+Oa8Y8X6ZP4K8fytbJsjSYXNrnoVzkD8DkV638GJ9/gX7OYpEe3uZEbeMZPB4/Ol+L3hx9a8KfbLaHfdWDeaNoyxj/iA/n+FUnaQHaaLqSaxotnqKKVW5hWTae2RyKv15X8EteW88P3GjySZms33opPPlt/QH+deqVL0YBRRRSAKKKKACmuivjcobByMjOD60UUACRrGCEUKCcnAxzSsoYEMAQeCDRRQBl6J4c0rw7BJFplokIkcu7YyzEnPJ9PatWiigAooooAKKKKAP//Z\"><img style=\"display:inline;margin:1px\" src=\"data:image/jpeg;base64,/9j/4AAQSkZJRgABAQAAAQABAAD/2wBDAAgGBgcGBQgHBwcJCQgKDBQNDAsLDBkSEw8UHRofHh0aHBwgJC4nICIsIxwcKDcpLDAxNDQ0Hyc5PTgyPC4zNDL/2wBDAQkJCQwLDBgNDRgyIRwhMjIyMjIyMjIyMjIyMjIyMjIyMjIyMjIyMjIyMjIyMjIyMjIyMjIyMjIyMjIyMjIyMjL/wAARCABGAEYDASIAAhEBAxEB/8QAHwAAAQUBAQEBAQEAAAAAAAAAAAECAwQFBgcICQoL/8QAtRAAAgEDAwIEAwUFBAQAAAF9AQIDAAQRBRIhMUEGE1FhByJxFDKBkaEII0KxwRVS0fAkM2JyggkKFhcYGRolJicoKSo0NTY3ODk6Q0RFRkdISUpTVFVWV1hZWmNkZWZnaGlqc3R1dnd4eXqDhIWGh4iJipKTlJWWl5iZmqKjpKWmp6ipqrKztLW2t7i5usLDxMXGx8jJytLT1NXW19jZ2uHi4+Tl5ufo6erx8vP09fb3+Pn6/8QAHwEAAwEBAQEBAQEBAQAAAAAAAAECAwQFBgcICQoL/8QAtREAAgECBAQDBAcFBAQAAQJ3AAECAxEEBSExBhJBUQdhcRMiMoEIFEKRobHBCSMzUvAVYnLRChYkNOEl8RcYGRomJygpKjU2Nzg5OkNERUZHSElKU1RVVldYWVpjZGVmZ2hpanN0dXZ3eHl6goOEhYaHiImKkpOUlZaXmJmaoqOkpaanqKmqsrO0tba3uLm6wsPExcbHyMnK0tPU1dbX2Nna4uPk5ebn6Onq8vP09fb3+Pn6/9oADAMBAAIRAxEAPwD3+iiigAoNFU9U1K20jTZr+7YrBCu5iBk/QD1otcDym+1PxTF42iuLfWLoBr0RSWMkam3WEvtwMck46HrkGvYq+eNX8SS3Xi8eINMja0kjkDrG+GDcY+b688V6n4K8eR+J5JLK4txb30SbyFbKyDuR3H0q/YVIR5pBKpBu0TtKKKKgAooooAKKKKACuQ+JV3HbeDp435aeRIlGe+c/0rr68w+MF2RDpFmjctK0rLjsAOc/nWlFXqJEz+FnlFy2yJgPlPqK6f4XTP8A8JtYsrY82KQOPUbc4/MVytwC+FAHPpXo/wAIdB82/n1l1HlWymCE+rn7x/Afzr0K8koO5hBansVFFFeWdIUUUUAFFFFABXkPxbSQajbzeQQVgxDKWO1jk5B+nBr16vO/jA23w1af9fP/ALKa1o/xETL4WeNWuopaWs2YRcXAHljcMjkdT6Z9a9l+Dlg1t4Qe7abe13OzlAMBCOOK8yXQwvw1j1gRHzH1F1divOzbgYPpkH8a9Y+EzK3gSAAglZpAQD0+atqyTi5J9SYvZHc0UUVyGgUUUUAFFFFABXnPxiGfDdl6fah/6Ca9Grgvi7KieDAjMAz3Me0euMk/pWlH40TLZmXc20UnwGh+XGy2WUY4+bf1/Wrvwb/5FG4/6/H/APQVrJ1O6Nv8B7BQ4UzRRx4P8QLkkD8q6f4XWK2fgWzcbd1wzzMR7nHP4CtJP92/US3OzooornLCiiigAooooAK8/wDFfw+1Pxjq0balr3l6VExMdrbw7WHHdieT74oooAp6p8K7u90PStBg1949KsBuKSRbnkkJJLE5GAAcAdq7nw/o8egaFaaXFK8qWybRI4wW5Jz+tFFAGnRRRQAUUUUAf//Z\"><img style=\"display:inline;margin:1px\" src=\"data:image/jpeg;base64,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\"><img style=\"display:inline;margin:1px\" src=\"data:image/jpeg;base64,/9j/4AAQSkZJRgABAQAAAQABAAD/2wBDAAgGBgcGBQgHBwcJCQgKDBQNDAsLDBkSEw8UHRofHh0aHBwgJC4nICIsIxwcKDcpLDAxNDQ0Hyc5PTgyPC4zNDL/2wBDAQkJCQwLDBgNDRgyIRwhMjIyMjIyMjIyMjIyMjIyMjIyMjIyMjIyMjIyMjIyMjIyMjIyMjIyMjIyMjIyMjIyMjL/wAARCABGAEYDASIAAhEBAxEB/8QAHwAAAQUBAQEBAQEAAAAAAAAAAAECAwQFBgcICQoL/8QAtRAAAgEDAwIEAwUFBAQAAAF9AQIDAAQRBRIhMUEGE1FhByJxFDKBkaEII0KxwRVS0fAkM2JyggkKFhcYGRolJicoKSo0NTY3ODk6Q0RFRkdISUpTVFVWV1hZWmNkZWZnaGlqc3R1dnd4eXqDhIWGh4iJipKTlJWWl5iZmqKjpKWmp6ipqrKztLW2t7i5usLDxMXGx8jJytLT1NXW19jZ2uHi4+Tl5ufo6erx8vP09fb3+Pn6/8QAHwEAAwEBAQEBAQEBAQAAAAAAAAECAwQFBgcICQoL/8QAtREAAgECBAQDBAcFBAQAAQJ3AAECAxEEBSExBhJBUQdhcRMiMoEIFEKRobHBCSMzUvAVYnLRChYkNOEl8RcYGRomJygpKjU2Nzg5OkNERUZHSElKU1RVVldYWVpjZGVmZ2hpanN0dXZ3eHl6goOEhYaHiImKkpOUlZaXmJmaoqOkpaanqKmqsrO0tba3uLm6wsPExcbHyMnK0tPU1dbX2Nna4uPk5ebn6Onq8vP09fb3+Pn6/9oADAMBAAIRAxEAPwD3+iiigAqC8kkisp5IQDKsbMgPcgcVX1nVrXQtHutTvGK29tGXfHU+gHuTxXzzffGHxbd3dyLa8jtonZikQhUmND0GccnHei1xpHpVmuoT6rpl3YanKkks4aVHlkcTR4yylW4HfBA4r0uvlew8d6/pUUT28kDTxy+Y1xJGWkkH9089OT0r1fwF8Wj4m1ldH1KzhtrqRCYpInO12A5XB6HqamNOUPiLqSjN3ieo0UUVRmFFFFABRRRQB418crnV5RpumWtjcSWD5mkkiQsHkHAU49Ov414pAlrb6qi3b3ECgqJ12BpAR97C8Y9ga+zZpFhheV2CoilmJ7ADNfGuqXf9oa5e3wAD3M7yZU56sT1qolJmpreq6JLpwh0vSJ7VVIzcSMC7EHGT1yCOo4xximaOZ/DOq+H9fZ90M0vnoVHICSFHU++OfoRWdJGrwtG0nBX161No1vf6m9rpEvntZ29xuMgQskIkKqzEgcfdH41TSWw229z7EikSaJJYzlHAZT6g9KfUcESwW8cKZ2RqEXPoBipKzICiiigAooooARlDKVYAgjBB7189/GPRdP0fxPpn9n2ENrHNbMX8pNqswb24zivoWvJPjtpcs2i6ZqkasUtJykmOiq44J/EAfjTW41ueAE/6e4xxivpT4M6ImneCI75o8XGoyGZ2IwdgOFH0xz+NfNMsoa4d17g19heEbWOz8H6PBFnYtnFjJyeVB/rTY5G1RRRUkhRRRQAUUUUAFUNa0i113R7rTLxA8FwhRsjoexHuDzV+igD4w1XTf7I16602Z1kNtcGFnA4ODjNfY2n+WNOthDt8oRLs2dMYGMe1fM2qeD77xL8TNbtLSe3j3XM8pMr4OFPRR3PNemfCDX7+eJ9BlBuLO1hDwXBPKDpsPrzn8qHJFuLtc9WooooICiiigAooooAKDRRQB5tq3w0upfGseu6VqMdskknmTLIpZgSRu29uRn86v+D/AIbQeE/EF5qkeoyzidWSOHbtVFLZ59SOBRRSsiuZndUUUUyQooooA//Z\"><img style=\"display:inline;margin:1px\" src=\"data:image/jpeg;base64,/9j/4AAQSkZJRgABAQAAAQABAAD/2wBDAAgGBgcGBQgHBwcJCQgKDBQNDAsLDBkSEw8UHRofHh0aHBwgJC4nICIsIxwcKDcpLDAxNDQ0Hyc5PTgyPC4zNDL/2wBDAQkJCQwLDBgNDRgyIRwhMjIyMjIyMjIyMjIyMjIyMjIyMjIyMjIyMjIyMjIyMjIyMjIyMjIyMjIyMjIyMjIyMjL/wAARCABGAEYDASIAAhEBAxEB/8QAHwAAAQUBAQEBAQEAAAAAAAAAAAECAwQFBgcICQoL/8QAtRAAAgEDAwIEAwUFBAQAAAF9AQIDAAQRBRIhMUEGE1FhByJxFDKBkaEII0KxwRVS0fAkM2JyggkKFhcYGRolJicoKSo0NTY3ODk6Q0RFRkdISUpTVFVWV1hZWmNkZWZnaGlqc3R1dnd4eXqDhIWGh4iJipKTlJWWl5iZmqKjpKWmp6ipqrKztLW2t7i5usLDxMXGx8jJytLT1NXW19jZ2uHi4+Tl5ufo6erx8vP09fb3+Pn6/8QAHwEAAwEBAQEBAQEBAQAAAAAAAAECAwQFBgcICQoL/8QAtREAAgECBAQDBAcFBAQAAQJ3AAECAxEEBSExBhJBUQdhcRMiMoEIFEKRobHBCSMzUvAVYnLRChYkNOEl8RcYGRomJygpKjU2Nzg5OkNERUZHSElKU1RVVldYWVpjZGVmZ2hpanN0dXZ3eHl6goOEhYaHiImKkpOUlZaXmJmaoqOkpaanqKmqsrO0tba3uLm6wsPExcbHyMnK0tPU1dbX2Nna4uPk5ebn6Onq8vP09fb3+Pn6/9oADAMBAAIRAxEAPwD3+iiigArO128udP0G/vLOJJrmCB5Io3OAzAZANaNcn4n+IHh7w5OdPvbjzr1wALWJdxO7gBuwz70Acp4SPiV/ElldX3iee6imZvNszAyrypJAJ4AHGMV6vXjdvr174PvDq2s6df8A9nK/kxO0ezILlQNpPVRkj1Fel+HvFWj+KLd5tJvFmEePMQgqyZ9QamN7alztfQ2aKKKogKKKKACiiigANfIfi69N34+1aebCs165G3p8rYH8hX10/wBxvpXyFeQxLoupTuN0supJGjdwAJGbn8VpoD0r4q+JrbWPCXh/bnN2ovmX0IXbg+vzFvyqh8Db2VvGV5GCoSa0YsAuPusMY9OprzC4uZZbONJ52dIEMcanoi5Jx+ZJr1n4I2M174s1HWY08u1SAR7T1DNtwOP90mhhd2se9UUUUgCiiigAooooARhlSPWvlPxn4a1Hw5CsV1JHJE1/Lu8sHCsQMZJ9QK+ra8k+PGmxnwta36BVdL1BIecvlSB7cUBp1PG/D2l6Ve2t/catei3WGMtHGHALMBwcHluwwK+gvg/aQW/w9s5oowslw7ySnuW3EfyArwG+0W2t/BGgawAPtN1eXMbHH8K7cflz+de7/BUEeAFzn/j7lxn04oHc9EooooEFFFFABRRRQAV5l8df+Sfp1/4/ov616bXG/FSxN/8ADfWI1JDRxCYYXJO1gcUAeQeIo7P/AIUR4Ykt1Qut429h1DHfu+h4Feu/CiOSP4b6SJUKsyuwyOoLkg14NeXkn/CntJspA2JtYmMLEYCqqDP15Y/lX07oVkmm6Bp9kgULBbonyjA4UZIoA0KKKKACiiigAooooAKztd0x9Y0O805Lhrc3MZjMijJAPX8xxRRQB57qXwgjn8C6doVvfIbuwuWniuJFKr85+YbRntivStPiuINPtorqRZJ0jVZHXoxA60UUAWaKKKACiiigD//Z\"><img style=\"display:inline;margin:1px\" src=\"data:image/jpeg;base64,/9j/4AAQSkZJRgABAQAAAQABAAD/2wBDAAgGBgcGBQgHBwcJCQgKDBQNDAsLDBkSEw8UHRofHh0aHBwgJC4nICIsIxwcKDcpLDAxNDQ0Hyc5PTgyPC4zNDL/2wBDAQkJCQwLDBgNDRgyIRwhMjIyMjIyMjIyMjIyMjIyMjIyMjIyMjIyMjIyMjIyMjIyMjIyMjIyMjIyMjIyMjIyMjL/wAARCABGAEYDASIAAhEBAxEB/8QAHwAAAQUBAQEBAQEAAAAAAAAAAAECAwQFBgcICQoL/8QAtRAAAgEDAwIEAwUFBAQAAAF9AQIDAAQRBRIhMUEGE1FhByJxFDKBkaEII0KxwRVS0fAkM2JyggkKFhcYGRolJicoKSo0NTY3ODk6Q0RFRkdISUpTVFVWV1hZWmNkZWZnaGlqc3R1dnd4eXqDhIWGh4iJipKTlJWWl5iZmqKjpKWmp6ipqrKztLW2t7i5usLDxMXGx8jJytLT1NXW19jZ2uHi4+Tl5ufo6erx8vP09fb3+Pn6/8QAHwEAAwEBAQEBAQEBAQAAAAAAAAECAwQFBgcICQoL/8QAtREAAgECBAQDBAcFBAQAAQJ3AAECAxEEBSExBhJBUQdhcRMiMoEIFEKRobHBCSMzUvAVYnLRChYkNOEl8RcYGRomJygpKjU2Nzg5OkNERUZHSElKU1RVVldYWVpjZGVmZ2hpanN0dXZ3eHl6goOEhYaHiImKkpOUlZaXmJmaoqOkpaanqKmqsrO0tba3uLm6wsPExcbHyMnK0tPU1dbX2Nna4uPk5ebn6Onq8vP09fb3+Pn6/9oADAMBAAIRAxEAPwD3+iiigArG8Vahfab4durnTI43vQAsXm/dBPc1s1yOveMdEGmXUAlM8hBj8tQQc9OvtSk7IqKuzz7w/wCJfHtv4itJdRdbqwuJlSSMMGwrHGRwMYz+le3ivn7T/iTbJqUNtFazNqKzhFjkUeWuDyxbvwDXrFh470m6wszPbSHjDjIP4is4T6SNalNbw2OpopAcjI5pa1MAooooAKKKKAMTxXqo0jw7dXAOJCvlx84+Y8V4RDObhZWKkKJCqv2fGM/rxXvniDQodf077LLI0ZVt6Oozg/SvIfFGgyeHL6O1NwlwrpvUquCvPOR2rGomzooyS0OFtNOZPFtze+WfJaMPG+OCzfKRn2wa3RI8FzBE8pkMzkAFQMYGeKvDVLm4sWtpIoIgDtzGOqj69KzbtmWa12AEmUckdO34daxk7ux0KKiro+gfDl2194esbhs7miAOe5HH9K1KwvB3/Ipad/1z/qa3a647I4JfEwooopiCiiigAPSvGPiDceb4suFKgeWiID1zxn+tez14z8SFSDxTKy/LviRm56nGP6VnV+E2o/EcFb3bjXLmOVisbovlg9iM/wA81qRx3N3fQx2xX5VLvnuOgH5/yrptR8LxW3w1sdUI23KzG4csuCRJhcZ9gAam+GWnQXniG4nntxL5EA2swyFbdx+PWseT3kbqouVs9N8NWclh4csLaX/WJEN3sTz/AFrWpKWulKyONu7uFFFFMQUUUUAFeJ/FyOaLxHDJyscsK4IPXHBr2yvPfij4e1HXYNN/s63aeSORtyqOgIByTn2qZq6Lpu0jT8WWcI+GtzCAdkNqhTnuuMVzPwdYs+qZOeI/612fim0nuPA19awxs07WoRUUZJPHFcr8JdI1HTU1KS+tZbcOUVfNUqWIzng/Wpa95FJ+4z0yiiitDIKKKKACiiigAoxRRQAYooooAKKKKACiiigD/9k=\">"
            ],
            "text/plain": [
              "<IPython.core.display.HTML object>"
            ]
          },
          "metadata": {
            "tags": []
          }
        },
        {
          "output_type": "stream",
          "text": [
            "3) Foreground mask images\n"
          ],
          "name": "stdout"
        },
        {
          "output_type": "display_data",
          "data": {
            "text/html": [
              "<img style=\"display:inline;margin:1px\" src=\"data:image/jpeg;base64,/9j/4AAQSkZJRgABAQAAAQABAAD/2wBDAAgGBgcGBQgHBwcJCQgKDBQNDAsLDBkSEw8UHRofHh0aHBwgJC4nICIsIxwcKDcpLDAxNDQ0Hyc5PTgyPC4zNDL/wAALCABGAEYBAREA/8QAHwAAAQUBAQEBAQEAAAAAAAAAAAECAwQFBgcICQoL/8QAtRAAAgEDAwIEAwUFBAQAAAF9AQIDAAQRBRIhMUEGE1FhByJxFDKBkaEII0KxwRVS0fAkM2JyggkKFhcYGRolJicoKSo0NTY3ODk6Q0RFRkdISUpTVFVWV1hZWmNkZWZnaGlqc3R1dnd4eXqDhIWGh4iJipKTlJWWl5iZmqKjpKWmp6ipqrKztLW2t7i5usLDxMXGx8jJytLT1NXW19jZ2uHi4+Tl5ufo6erx8vP09fb3+Pn6/9oACAEBAAA/APn+iiu2+Etnpl/8SdKttWgint3ZtqSthS4UlcjvyOnevoX4vaHos/w21O4u7O3WSzgDWsgUK0bg4UAjtzjHTmvkQ0UUUUU+GJ55o4YlLSSMFVR3JOAK+jvB3wBXR7/T9X1LW5vtlu6TiG2jChXHOCxznn2r1fxL4csfFehXGj6j5v2afBYxPtYEHIIP1HevAPiD8DYfC3hm51vS9TuLlbYhpYZoxnYSBkEemea8WooooroPAsaS+PdBjkRXRr+EFWGQfnFfb9FZniK0ivvDep2s4JiltZEbHoVNfCdFFFFdF4B/5KB4f/7CEP8A6EK+3aKp6scaPe5/595P/QTXwZRRRRWn4d1H+yfEmmaiSoFtdRyksMjAYE9K+4dO1Ox1a0W70+7hurd+kkLhh+nf2q3XmXxt8Yf8I14MeygbF9qm6BMrkCPHzn8jj8a+TaKKKKK+jv2bLp30HXLUhfLjuY5F45yykH/0EV6Raa+8vxM1PQTchoodNguEh2/dcu4Y5+hTivI/2lbhzeaBb+SwQRyuJexJKjb+GM/jXgtFFFFFfRH7NX/IN8Q/9dYf5NUkGu3I/ajnt4f3cUkP2SVc53qsW8H25ArG/aTvHbWNDstylEt5JcDqCzAfyFeGUUUUUV7x+zXcy/b9ftt/7nyopNuP4ssM/lUun27T/tVXbKQBCWkbIPTyQP61xnx11Jb/AOJ13EhUrZwx2+QD1A3HP4tXmtFFFFFez/s4xB/F2pv58y7LQHylOEfLYy3rjt9ao23xFi8H/F7xPrM9hJf+fLLboDIEZAHHfB7LivPfFGuyeJvE2oa1LCsL3cpk8tTkKMYAz9AKyKKK/9k=\"><img style=\"display:inline;margin:1px\" src=\"data:image/jpeg;base64,/9j/4AAQSkZJRgABAQAAAQABAAD/2wBDAAgGBgcGBQgHBwcJCQgKDBQNDAsLDBkSEw8UHRofHh0aHBwgJC4nICIsIxwcKDcpLDAxNDQ0Hyc5PTgyPC4zNDL/wAALCABGAEYBAREA/8QAHwAAAQUBAQEBAQEAAAAAAAAAAAECAwQFBgcICQoL/8QAtRAAAgEDAwIEAwUFBAQAAAF9AQIDAAQRBRIhMUEGE1FhByJxFDKBkaEII0KxwRVS0fAkM2JyggkKFhcYGRolJicoKSo0NTY3ODk6Q0RFRkdISUpTVFVWV1hZWmNkZWZnaGlqc3R1dnd4eXqDhIWGh4iJipKTlJWWl5iZmqKjpKWmp6ipqrKztLW2t7i5usLDxMXGx8jJytLT1NXW19jZ2uHi4+Tl5ufo6erx8vP09fb3+Pn6/9oACAEBAAA/APn+iiur+GumafrHxD0aw1SJZbSWYh43OA+FJAP1IHHevpD4h+EfDUHw01ZV0qytVtbZ5YHitwDG46EYwevH418iGiiiiirmk6Xd63q1rpljH5l1cyCONc4yT6+1e5+Ff2eb60v7W/1jW1haF1lEdiCXDA5++eBz7GvX/GPhK18Z+HJdGu7meCN2V/MhIzlemQeCPavn34gfBC48I6Hca1Y6p9ttICPMiki2yKpIGcjIPJ56V5HRRRRXpXwK0pdS+JlrM7ECyikucDuQNoH/AI9X1rRVDW9Lh1vRL7TJwDFdQNE2e2RjP4V8N6tplzo2rXem3iFLi1laKRfcGqdFFFeyfs56hb23jLULOU4murT91nHJVgSPy5/CvpuivP8A4tePL3wH4et7jT7WOW5u5TCkkpyseBnJHUmvknUdQudV1G4v7yUy3NxIZJXPdicmq1FFFX9F1e70HWbTVbF9lzayCSMnpkdj7Hoa+x/A/jvSvHWlG6092WeJV+0wOpBiY9s9xweRXU14z+0dcSR+DtNhWONo5b35mK5ZSEOMHt3zXzNRRRRRXs37ONzKnjHU7dW/dS2O5hjqVcY/ma9q1PXbq0+KOg6OJALS7sbl2QnG51KkHr2AP5mud+Pts9x8MpZE24gu4pHye3K8fiwr5Rooooor1r9nq6SH4hzQsG3XFlIqkDgEFW5/AV9I3GgaddeIbTXJoS99aQvDA5bhAx5IHr2zXgPxs+KMGtCTwto7CS0ilBu7ntI6n7i+wPU9yK8Sooooor6O+CWk+G9M8CnxfqEMEN3BNMr30rEeWg445wODjpzXWfGDV9VsvhpPf6DchFkKCWZPveS/GVPbORz6GvkYkk5PWkooooorpn8ZXLfDyLwisQSFL1rp5Q33wRwpHscn8q+gPAd7YfED4Qt4el+1wGKy+yzylgxyOjKc89Oh+lfL1xEIbmWINuCOVzjGcHFRUUV//9k=\"><img style=\"display:inline;margin:1px\" src=\"data:image/jpeg;base64,/9j/4AAQSkZJRgABAQAAAQABAAD/2wBDAAgGBgcGBQgHBwcJCQgKDBQNDAsLDBkSEw8UHRofHh0aHBwgJC4nICIsIxwcKDcpLDAxNDQ0Hyc5PTgyPC4zNDL/wAALCABGAEYBAREA/8QAHwAAAQUBAQEBAQEAAAAAAAAAAAECAwQFBgcICQoL/8QAtRAAAgEDAwIEAwUFBAQAAAF9AQIDAAQRBRIhMUEGE1FhByJxFDKBkaEII0KxwRVS0fAkM2JyggkKFhcYGRolJicoKSo0NTY3ODk6Q0RFRkdISUpTVFVWV1hZWmNkZWZnaGlqc3R1dnd4eXqDhIWGh4iJipKTlJWWl5iZmqKjpKWmp6ipqrKztLW2t7i5usLDxMXGx8jJytLT1NXW19jZ2uHi4+Tl5ufo6erx8vP09fb3+Pn6/9oACAEBAAA/APn+iiremafPquqWun2wBnuZVijB9WOBX1Rp/wACvBVrpsUF1Yy3VwExJO07As2OSACAPbivm/x14Xk8H+L77R2YvHE26Fz1aNuVJ98fyrnKKKKKK774c/DfX/F95FqNifsljbTqWu2cocggkRnByw9egNfX6JsjVNzNtAG5jyfc15p8VvhbN49Nnd2F5BbXtqjJiVPllUkHlhyMf1r5Subd7S6mt5ceZE7Rtg9wcGoqKKKtadYXGqalbWFom+4uJFijXOMsTgV9veF9Ct/DXhqw0i2UBLaIKT/ebqxP1Oa16K+Uvjx4cTRfHpvYEKwalEJ8BcAOOGA/Q/jXltFFFWbC+uNM1C3vrSQxXFvIJI3AztYHINfXPwv+IZ8faRK8tjJBd2gVLmQY8p3Ofu856DOO1d7WT4n12Pwz4bvtZmgknjtI/MaOMgMwyBxn618e+OPG2peONcbUL5tkSZW3t1Pywp6D1Pqe9cxRRRRX1p8C9H/sz4aWs7LiS+le4PIPGdo/QV6XWP4r0yPWfCeq6dLt2z2si/MOAcZB/A4r4ZYYYj0pKKKKtaallJqVumoyzQ2bOBNJCgZ1XuQCRmvt/wAMW+nWnhjTbbSZ457CKBUhlQghwB144z6+9a1IQCMHkV8T/EDQn8OeOdW05gQizs8ZI6o3zL+hrmaKKKK+r/gHdx3HwyghQNut7mWN8jjJO7j8CK7PxFrh0GTSp5mRLGa8W3upGx+7DqwQ5J4G/aCfetwHIzXzd8etQ8K621lfaXqtvPq1u7W08MYJJQZ68cYOR+NeJUUUUV7d+z94zttLv7vw7fzrFHeMJbZpGwPMHBX0GRj8q9E+PKo3wuuywBK3EJX67qp/DT4waPrejQafrV1b6dqduqxfvG2xzgDAZSeh45Brwj4omyb4ka2+nyRSW0k4dXicMrEqCSCPcmuQoooooBIOQcEVcudV1G8gEN1f3U8SnISWZmUEexNU6KKK/9k=\"><img style=\"display:inline;margin:1px\" src=\"data:image/jpeg;base64,/9j/4AAQSkZJRgABAQAAAQABAAD/2wBDAAgGBgcGBQgHBwcJCQgKDBQNDAsLDBkSEw8UHRofHh0aHBwgJC4nICIsIxwcKDcpLDAxNDQ0Hyc5PTgyPC4zNDL/wAALCABGAEYBAREA/8QAHwAAAQUBAQEBAQEAAAAAAAAAAAECAwQFBgcICQoL/8QAtRAAAgEDAwIEAwUFBAQAAAF9AQIDAAQRBRIhMUEGE1FhByJxFDKBkaEII0KxwRVS0fAkM2JyggkKFhcYGRolJicoKSo0NTY3ODk6Q0RFRkdISUpTVFVWV1hZWmNkZWZnaGlqc3R1dnd4eXqDhIWGh4iJipKTlJWWl5iZmqKjpKWmp6ipqrKztLW2t7i5usLDxMXGx8jJytLT1NXW19jZ2uHi4+Tl5ufo6erx8vP09fb3+Pn6/9oACAEBAAA/APn+iiitbwxpS654o0zS337Lq5SJtgydpPP6V9tWOi6bpukppdpZQxWKps8kINpGMcjvn3r5M+MOgaf4c+Id3Z6ZD5Ns8aTiMHhWYZIHoPauCooooorR0Oe+tNbs7rTYnlvIJlkiVFLEsDwMCvtLS/E9pfeFzrk6S2kcSObmOZCrwumQ6kdcgg18y/FCz1zxDfJ43axkGj6kNtoQMtHGuQu8AcbgCw68HrXm1FFFFd/8H/Clt4s8dQwX8QlsbWNriaNjw4HAB9RkivqttN07RrG4uNP06zt5IoGKmOFV+6MgcDpxXzR4d8VfEbx/4oFhaavclJQVuAgVYYojkMSMY6E475xX1BYaZaadpVvplvCotLeJYY4yMjaBgCuQ8a/DXw5reg6i0ej2sWofZ2MM8MW1gyqdv3cZ+lfHjKVYqwIYHBB7UlFKqs7BVBJJwAB1r6j+B3gGXwzokmtaigW/1FFKIQd0UXUA57nqfwr1hTHNHlSrocjg5B9az9H8O6R4fSZNJ0+3tBO5kl8pMbm9606ZHLFPGWidZEyVypyMg4I/Ovi74k6OmhfELWbKKNkhFwZIwy4+Vvm49ua5Sruk6RqGuahHYaZaS3VzIfljjXJ+p9B719H/AA7+D9n4Kd9f8TXFrNdwLuj5/dWwxyxJ6t79qxfiX8cYvJn0bwnLvZ12y6ipwF9RH7/7X5V6D8GmZ/hZo7MSWIkJJOSfnau8pG6GuX8AabqOieDbaz1eNIrlJJnID7sK0jONx6Zwea+ZvjHrVhrvxHvrrTbgT26IkPmL90sowcHuM964Kum8EeNtR8C602o6ekcvmRmOSGXO1x2zjng81L4r+IniTxjK39p37C2zlbWH5Il/Dv8AjXLxxvLKsaDc7kKo9Selfb/gzQ18OeD9L0pRhoIFD+7nlv1JrdorwX49+NNf0q6j8P2jx22n3dvveWN8yyjOCp7qO3vXz1RRRXS+APDs3inxrpumRNtDSiSV/wC6i/Mx/SvtlRhQPSlpGOFJ9K+HvGGuX3iHxVqF/qEzSStMyqCeEUEgKPQCsKiiivX/ANna2hl8d3czoDJDZMYz/dJYA/pX0/XBeDfFzeKfHniiOC4L6dYCG3gUfdLAtvf8Tx9AK67XdQTStB1DUHcItvbvJuIyBhTjj618KTStPPJM5BeRizY9Sc1HRRRXpvwI1F7L4m20IZxHdQyRMq9+MjP4ivq2eEXFtLCxKiRChK9RkY4rxX4Q6RP4R+JHifw20yTxCFZll53EBiFz74PNdp8ZCV+FetkEj5EHB/21r47or//Z\"><img style=\"display:inline;margin:1px\" src=\"data:image/jpeg;base64,/9j/4AAQSkZJRgABAQAAAQABAAD/2wBDAAgGBgcGBQgHBwcJCQgKDBQNDAsLDBkSEw8UHRofHh0aHBwgJC4nICIsIxwcKDcpLDAxNDQ0Hyc5PTgyPC4zNDL/wAALCABGAEYBAREA/8QAHwAAAQUBAQEBAQEAAAAAAAAAAAECAwQFBgcICQoL/8QAtRAAAgEDAwIEAwUFBAQAAAF9AQIDAAQRBRIhMUEGE1FhByJxFDKBkaEII0KxwRVS0fAkM2JyggkKFhcYGRolJicoKSo0NTY3ODk6Q0RFRkdISUpTVFVWV1hZWmNkZWZnaGlqc3R1dnd4eXqDhIWGh4iJipKTlJWWl5iZmqKjpKWmp6ipqrKztLW2t7i5usLDxMXGx8jJytLT1NXW19jZ2uHi4+Tl5ufo6erx8vP09fb3+Pn6/9oACAEBAAA/APn+pLeCS5uI4IULyyMERQOSScAV9m+CfAWkeE/D9raxWML3fl5uJ5EBd3YYbn07Y9K8V+O3gGx8P3Npruk26W9rdMYp4Y1wiydQw9MjPHtXjFFFFFFeifBjwxP4h8fWk6sEt9NYXUzdzg/Ko9yf0zX13WN4o8N2Pizw/daRqC/up1+VwAWjbsy57ivivxBpD6D4gv8ASZJVle0naEuowGwetZtFFFFfUPwkt7TwZ8NLDUryBVudYvI0BAw7+Y4SMc9cDJ+ma9eqvfXcNhYz3lw4SGCNpHYnAAAya+H/ABPrs3iTxLqGsTgK91MXCgfdXoB+WKyKKKKK+zvA2mWWofD7wrJeWsU72ttFNAZFz5bheGHvXY1458ffGT6P4ej8O28R83VEJklJ4WNSMj6k/pXzGetFFFFFfZ3wqvft/wAMtCl2bNtuIsZz90lc/jiusS4hkmlhSVGliwJEDAlMjIyO2RXif7SGkRSaJpOr5AmhnNv/ALysM/oV/WvnGiiiiivq/wCAmpfbfhrFbtKjPaXEkW0dVUncM/ma5/VPFLeGf2j3jdwtnqUEFtcZOBkr8rfgcfnXV/G7Tm1D4X6iyIjPatHPluqgNgke+DXyKetFFFFFfQX7NdzIYdftjIfKDRSBPQncCf0FcD8areaz+Kups9wXMgjlQ8/ICowPwxX0D4D1m38f/DKFbyTzZJIGs70dDvA2k/iMGvk3xDpD6D4h1DSpGDtaTtFuH8QB4P5VmUUUUV6v+z9qD2nj+aEuiwT2Unms/GApBBz2qP4+wBPiN9qWWORLmzidNjZwBkc/lmm/AzxYnh/xp9gu5/LstSXyTubCrIPuE5/EfjWt+0P4bay8TWmvQxYgvovLlYDjzV/qVx+VeMUUUUU5JHjzsdl3AqdpxkelDyPIQXdmIAALHOAOgpFYowZSQQcgjtWz4i8V6z4quY59XvXnMUaxovRVAGOB0z6nvWLRRRX/2Q==\"><img style=\"display:inline;margin:1px\" src=\"data:image/jpeg;base64,/9j/4AAQSkZJRgABAQAAAQABAAD/2wBDAAgGBgcGBQgHBwcJCQgKDBQNDAsLDBkSEw8UHRofHh0aHBwgJC4nICIsIxwcKDcpLDAxNDQ0Hyc5PTgyPC4zNDL/wAALCABGAEYBAREA/8QAHwAAAQUBAQEBAQEAAAAAAAAAAAECAwQFBgcICQoL/8QAtRAAAgEDAwIEAwUFBAQAAAF9AQIDAAQRBRIhMUEGE1FhByJxFDKBkaEII0KxwRVS0fAkM2JyggkKFhcYGRolJicoKSo0NTY3ODk6Q0RFRkdISUpTVFVWV1hZWmNkZWZnaGlqc3R1dnd4eXqDhIWGh4iJipKTlJWWl5iZmqKjpKWmp6ipqrKztLW2t7i5usLDxMXGx8jJytLT1NXW19jZ2uHi4+Tl5ufo6erx8vP09fb3+Pn6/9oACAEBAAA/APn+iiivqRfhj4Mk+FKyjToWl/s37UL4ZWUyeXu3ZPbPY8V8tmiiiiiitLQdDvvEmt2uk6dGHurltqBjgDjJJPYACvsDR/BflfDiLwlrl2b9Ps5gllT5PlzkBT1+XgAn0r55+J/wln8BxR6jaXZvNLmk8vLriSJiMgNjgg4PPtXmdFFFFFelfAqwlvPifZzRg7LWGWaQ4JGNu0fTlhX1rXm/x0hjl+FeoM6BmilhdCf4TvAz+RNfJFFFFFFe8fs16eWv9d1Ex8JHFAsmemSWIx+Ar6Hrw79onxUttpNp4Ygb99dMLi4wekan5R+Lc/8AAa+caKKKKK+nP2dZLP8A4Qq9iiuEe7+2M80WMMg2gL9QcHn617HXy7+0Nqn2vx5BYeQE+w2yjzM5L7/m/DFeRUUUUUV7N+zgf+Kz1P8A68D/AOhrXscPiuR/jBc+GWmHkJpaTRxgj/W7iWz3ztI49BXgnx7jdfijdMykK9tCVJHUbccfiDXmNFFFFFey/s4kf8JnqYyMmwP/AKGtW9Pvp4f2pp9r7vMupITu5wnldB6dKzP2if8Akf7T/sHp/wChvXkVFFFFFerfs+wSyfEgyohKRWUpcjsCVA/Wuj0CyW8/ai1N2jZ1t5ZpsjopEYAJ/E1xvxx1Jr/4oX8R3bbSOO3UN2wu449ssa84ooooor07wZ8UNJ8C6FJFpHhvzNZmQCa9uLjcrEHoFAyF9gevWr+h/GWw0zxBq/iO68NCXWdQO3zIp9kccYUAKBgnJIyT39q868U+IJvFPia+1qeFIJLtw5jQkhcAADJ+lY9FFf/Z\"><img style=\"display:inline;margin:1px\" src=\"data:image/jpeg;base64,/9j/4AAQSkZJRgABAQAAAQABAAD/2wBDAAgGBgcGBQgHBwcJCQgKDBQNDAsLDBkSEw8UHRofHh0aHBwgJC4nICIsIxwcKDcpLDAxNDQ0Hyc5PTgyPC4zNDL/wAALCABGAEYBAREA/8QAHwAAAQUBAQEBAQEAAAAAAAAAAAECAwQFBgcICQoL/8QAtRAAAgEDAwIEAwUFBAQAAAF9AQIDAAQRBRIhMUEGE1FhByJxFDKBkaEII0KxwRVS0fAkM2JyggkKFhcYGRolJicoKSo0NTY3ODk6Q0RFRkdISUpTVFVWV1hZWmNkZWZnaGlqc3R1dnd4eXqDhIWGh4iJipKTlJWWl5iZmqKjpKWmp6ipqrKztLW2t7i5usLDxMXGx8jJytLT1NXW19jZ2uHi4+Tl5ufo6erx8vP09fb3+Pn6/9oACAEBAAA/APn+iilr7CsPBnhC0+H0SXWkWSWZsVmnkaMFvuAltx5z3r5AnEQuJBASYt52FupXPGfwqOiiiiprW2lvLuG2hXdLM6xoPVicCvqrQPgZ4Q0/TYE1Gxe+vNimaSWVsb8c7QMcZrvdW0a31Xw/daMSYbe4tzb5jAyikY4+lfH/AMQvA8/gLxENNkuluYpYxLDKBtJUkjkdjkVyVFFFFej/AAT8Nrr/AMQraWeISW2nqbmQEZG4cID+PP4V9Zw3ME8k0cUqO8LbJFU5KNgHB9Dgg/jUteD/ALSOkzS2Ojaui5hhd4JCF6FsEZPpwa+eKKKKK+gv2a7aPyNfuTEPN3RRiTH8PJI/lXo/wxUyaFqV/Ixa4vdWu5ZjgDLCQoMAeyCu2rI8T6BZ+J/Dt5o99xDcpt3DqjfwsPcHFfFfiLQrzw1r13pF8u24tn2kjow7EexHNZdFFFe5fs/eINM0qHW4NT1ZbbKrJHBLLtVgAS7Ad2wB71naB8ZLjwVqdzpFtFbanoCXcjxSIGWTYzlsgnqee47V9G6Drdn4i0S01awctbXUYdM9R6g+4PFeWfHvxDrej6RZWtrCq6ddSqXuo3ZZY5EYMFBHTOBz7Gvn7xV4kuPFevzardRrG8iIgRWLYCqFGSeSeOT61i0UUUtAyTxX1B+z/Hrlr4TurTUrCW3sRN5tpJKu0vu+8ADzjIBz713Pj3w3D4r8G6jpci5kaMyQHusi8qfz4/Gvid0aN2RhhlOCPQ02iiitzR/CGv67NbJYaVdyJcSBEm8lvLGT1LYxgV9G+Cvg54f8GRJqutSxXt/EodpZ8LDAfVQf5msbxx8frTTZZdP8LQx3ky5VryXPlKf9lf4vr0r1fQtRl1jwlYajMoWW6s0lcL0yVycV8P3oIvrgEYPmNwfqagooor6Z+Bfj86xoreHL4r9s0+LNsd2DNF6Y9R/KvGvHPjzxN4j1C9sdVu547RLpmWyI2iPHAUjqcD175ri6+xvhHrSa38NtKkDAyW0f2aUBcYKcD9MV8v8AxB0q50fx7rVrcoVY3TyKdpAZWO4EZ7YNczRRRVmwv7rS76G9sZ3t7mFg8csZwVNLqWpXer6jPqF/MZrq4ffLIQAWPrxVWvVvAnxok8E+GI9FXRUugkjyeaZyudxzjGDW/rvxq8H+JrBY9Y8GSXkqrlfMkX5W9Aw+YDNeO6/f2Gp6tLdaZpSaZasAFtkkZwpA5OT61mV//9k=\"><img style=\"display:inline;margin:1px\" src=\"data:image/jpeg;base64,/9j/4AAQSkZJRgABAQAAAQABAAD/2wBDAAgGBgcGBQgHBwcJCQgKDBQNDAsLDBkSEw8UHRofHh0aHBwgJC4nICIsIxwcKDcpLDAxNDQ0Hyc5PTgyPC4zNDL/wAALCABGAEYBAREA/8QAHwAAAQUBAQEBAQEAAAAAAAAAAAECAwQFBgcICQoL/8QAtRAAAgEDAwIEAwUFBAQAAAF9AQIDAAQRBRIhMUEGE1FhByJxFDKBkaEII0KxwRVS0fAkM2JyggkKFhcYGRolJicoKSo0NTY3ODk6Q0RFRkdISUpTVFVWV1hZWmNkZWZnaGlqc3R1dnd4eXqDhIWGh4iJipKTlJWWl5iZmqKjpKWmp6ipqrKztLW2t7i5usLDxMXGx8jJytLT1NXW19jZ2uHi4+Tl5ufo6erx8vP09fb3+Pn6/9oACAEBAAA/APn+iitDQre2u9f062vDi1luY0lO7bhCwB57cV9YeOvCvhC1+Huoi70y0trW1tj5MsUIDxsBhCCBknOB+NfH9FFFFFaOhaNd+Idcs9JsVDXN1II0z0HqT7Ac19Q6Z8CvBdpaWq3djJdXMSr5sjTuBIw6naDjBPau71fQrDW9Bn0W9h32M0XlMisQQB0wfUYFfOXxK+Cg8IaG+t6VfTXdrE4E8UqDdGpPDZHUDgHjvXj9FFFFe6/s822h2z6rq95f2seopiGOKZwpSM8lhn1PHHp719DwzRzxJLDIkkbjKujAhh6gin1keKdIGveFdU0ogE3Vs8a5/vY4/XFfDU0TwTPFIpV0YqwPYg4NMoooqSCJ5544Y1LPIwVVHUknAr7s0SxXTNC0+wUEC2t44uQAflUDtV+szXNXg0fTZp3li8/ynaCFpFVpmVSdqgkZNfDFzM9zcyzyY3yOXbA4yTmoqKKKVWKMGUkEHII7V9QfAHX9T1vw3qg1PUZrySC6UIZ5N7KpQdzzjNevV8o/HfxBJq3xClsVlzbabGIUUHIDkZc/XJA/CvLqKKKKK9s/Zy1mG18R6ppMrIr3kCyRZ6syE5A/Bifwr6Tr4e8a3ct9431y4m2+Y99LnaMDhiP6Vg0UUUUVo6DrV54e1y01WxkKXFtIHXB6jup9iMj8a+3NI1Rdb8O2eqQxvGt3brMqHqu5c4r4c1IynU7sz7/OMzl9/wB7O45znvVWiiiiiivtzwB/yT7w/wD9eEP/AKCK8Y/aA8F6VprQ+JrSQQXV7P5c9vjiVsE7x6Hjn1zXhVFFFFFFe3+D/j0mgeDodKv9Klubuzi8q3kjYKjKB8obuMcDIzmud+Inxem8eaDa6Z/ZMdmscomlfzN5ZgMYXgYHJ/SvMqKK/9k=\"><img style=\"display:inline;margin:1px\" src=\"data:image/jpeg;base64,/9j/4AAQSkZJRgABAQAAAQABAAD/2wBDAAgGBgcGBQgHBwcJCQgKDBQNDAsLDBkSEw8UHRofHh0aHBwgJC4nICIsIxwcKDcpLDAxNDQ0Hyc5PTgyPC4zNDL/wAALCABGAEYBAREA/8QAHwAAAQUBAQEBAQEAAAAAAAAAAAECAwQFBgcICQoL/8QAtRAAAgEDAwIEAwUFBAQAAAF9AQIDAAQRBRIhMUEGE1FhByJxFDKBkaEII0KxwRVS0fAkM2JyggkKFhcYGRolJicoKSo0NTY3ODk6Q0RFRkdISUpTVFVWV1hZWmNkZWZnaGlqc3R1dnd4eXqDhIWGh4iJipKTlJWWl5iZmqKjpKWmp6ipqrKztLW2t7i5usLDxMXGx8jJytLT1NXW19jZ2uHi4+Tl5ufo6erx8vP09fb3+Pn6/9oACAEBAAA/APn+iitfwtpdvrXinTNMupJIoLq5SJ3jXLAE44FfRHxN+H3hTRfhhqVxp+iWsNzaxx+VOq/vAdyjJbvkZzXzBRRRRRRXeeA/hl4m8WT22oWEZs7FZh/p7tt2lSOUHViPbv3r6Y8c+FrzxR4EutCtr8xXMiJiVxxKVwcN6Akc4r5K8UeDdd8H3SQa1YtbmXPluGDJJjrgisCiiiigV9u+ArJLDwFoNtGWKrZRHLdeVyf510VeP/tFWkUvgWzuWB82G+UIQezK2f5CvmCiiiinJ/rF+or7008AabagAACFOB/uirNeL/tGatbweFNP0psm5ubrzlA7KgIJP4sK+aKKKKKVThgfQ190eGNUt9a8MabqNru8i4t0ZQ4wRxjn8q1q+SfjnfXN38T76GaQtFaxxxwr2VSoY/qTXm1FFFFFe6fs9eKtRbWp/Dc9zLLYi2aWCI42xMGGcd+c9K9h0zXbm6+I+vaK/wDx62dnayRjPRm37j+PH5V8+fH8qfia+MZ+xw5x6815bRRRRRXq37Pv/JSW5/5cZf5rXpvhmW9/4aH8VR3DSCNrJCitwCg2bT+p/M14z8Zpo5viprRjcOFZEJB6EIoI/A1wVFFFFFdx8Ib77B8UdEcgESSmE5bGNykZr6ItLSL/AIXdq19EV3RaLCJ1ByWZnbH0+VB+Yr5S8Rag+q+JNTv5C5a4upJPnOTgscA1mUUUUUVs+FNag8O+J7DV7ixW+jtZPM8hm2hiOhz7HB/CvRtK+NQg+I+oeIrnTHWwv7ZIJbWJgz/IPlO4498/WvMNcuLG71y+uNNgkgspZmeGKQgsik5wcVn0UV//2Q==\"><img style=\"display:inline;margin:1px\" src=\"data:image/jpeg;base64,/9j/4AAQSkZJRgABAQAAAQABAAD/2wBDAAgGBgcGBQgHBwcJCQgKDBQNDAsLDBkSEw8UHRofHh0aHBwgJC4nICIsIxwcKDcpLDAxNDQ0Hyc5PTgyPC4zNDL/wAALCABGAEYBAREA/8QAHwAAAQUBAQEBAQEAAAAAAAAAAAECAwQFBgcICQoL/8QAtRAAAgEDAwIEAwUFBAQAAAF9AQIDAAQRBRIhMUEGE1FhByJxFDKBkaEII0KxwRVS0fAkM2JyggkKFhcYGRolJicoKSo0NTY3ODk6Q0RFRkdISUpTVFVWV1hZWmNkZWZnaGlqc3R1dnd4eXqDhIWGh4iJipKTlJWWl5iZmqKjpKWmp6ipqrKztLW2t7i5usLDxMXGx8jJytLT1NXW19jZ2uHi4+Tl5ufo6erx8vP09fb3+Pn6/9oACAEBAAA/APn+iiut+G3hi08X+N7LSb6fyrZ90kgDYZwoztU+p/xr37xv8JPCR8F38mn6XFY3dpbNLDPETnKjPzc/NnHevlQ0UUUUUV698P8A4U+NrXxXpGrGBdPto3Wc3LyK3yYzjaDkkg4x719Ia7o8Ov6Fe6TcPJHDdxGJnjOGUHuK+ZfEHwE8V6SXksPs+pW65O6J9jgcnlT9O1eWMpVipBBHBB7UlFFFdh8MfDR8U+PdOsWUG3jfz58jI2JyQfqcD8a+zlAUAAAAdAKWkPSvif4h6XHo3xA1uxi2+XHdMyhRgAN8wH4ZrmaKKK6jwH42u/AniD+1LW2iuA8ZilikJG5SQeCOh4r6n+HfjuPx9oc2oJp8tmYZfKZXbcrHGcqe/Wuwo7V8bfFz/kqev/8AXcf+gLXE0UUUV9cfA2yFn8LrBg5b7RLLMQRjblsY/SvR6QkAZJ4r4p+IuqQaz8QdbvrY5hkuSEIOdwX5c/jjNcvRRRRX1l8Brma4+F9ssr7hDcyxpx0XOcfmTWfonjyS++PmqaNy9mbf7LDtkyqtHli2OmSSwP0FO+P2v3ujeEbOCwv3tZLy4McgjbDPGFOR64yRmvls0UUUUV9Sfs/XkMnw4mgjfM1veSeYuOmQCK8h+HuqXR+N1ldll826v5VlO3gh92celd7+0r/qPD3+9N/Ja+fKKKKKK9g+Bni/R/DEmuR6xexWkM8cbI8hPLAkYAA565rkPAd9a23xU0q9uLiOK1W+LtLI21QvPJJ6V3v7QXiPR9abRINM1CC8aISvIYHDqoOAMkd+DXiNFFFFFFFFFFFf/9k=\">"
            ],
            "text/plain": [
              "<IPython.core.display.HTML object>"
            ]
          },
          "metadata": {
            "tags": []
          }
        },
        {
          "output_type": "stream",
          "text": [
            "4) Overlayed foreground on background images\n"
          ],
          "name": "stdout"
        },
        {
          "output_type": "display_data",
          "data": {
            "text/html": [
              "<img style=\"display:inline;margin:1px\" src=\"data:image/jpeg;base64,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\"><img style=\"display:inline;margin:1px\" src=\"data:image/jpeg;base64,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\"><img style=\"display:inline;margin:1px\" src=\"data:image/jpeg;base64,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\"><img style=\"display:inline;margin:1px\" src=\"data:image/jpeg;base64,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\"><img style=\"display:inline;margin:1px\" src=\"data:image/jpeg;base64,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\"><img style=\"display:inline;margin:1px\" src=\"data:image/jpeg;base64,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\"><img style=\"display:inline;margin:1px\" src=\"data:image/jpeg;base64,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\"><img style=\"display:inline;margin:1px\" src=\"data:image/jpeg;base64,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\"><img style=\"display:inline;margin:1px\" src=\"data:image/jpeg;base64,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\"><img style=\"display:inline;margin:1px\" src=\"data:image/jpeg;base64,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\">"
            ],
            "text/plain": [
              "<IPython.core.display.HTML object>"
            ]
          },
          "metadata": {
            "tags": []
          }
        },
        {
          "output_type": "stream",
          "text": [
            "5) Overlayed mask images\n"
          ],
          "name": "stdout"
        },
        {
          "output_type": "display_data",
          "data": {
            "text/html": [
              "<img style=\"display:inline;margin:1px\" src=\"data:image/jpeg;base64,/9j/4AAQSkZJRgABAQAAAQABAAD/2wBDAAgGBgcGBQgHBwcJCQgKDBQNDAsLDBkSEw8UHRofHh0aHBwgJC4nICIsIxwcKDcpLDAxNDQ0Hyc5PTgyPC4zNDL/wAALCABGAEYBAREA/8QAHwAAAQUBAQEBAQEAAAAAAAAAAAECAwQFBgcICQoL/8QAtRAAAgEDAwIEAwUFBAQAAAF9AQIDAAQRBRIhMUEGE1FhByJxFDKBkaEII0KxwRVS0fAkM2JyggkKFhcYGRolJicoKSo0NTY3ODk6Q0RFRkdISUpTVFVWV1hZWmNkZWZnaGlqc3R1dnd4eXqDhIWGh4iJipKTlJWWl5iZmqKjpKWmp6ipqrKztLW2t7i5usLDxMXGx8jJytLT1NXW19jZ2uHi4+Tl5ufo6erx8vP09fb3+Pn6/9oACAEBAAA/APn+iiiiiiiiiilHJr0D4hfDaDwPpGj3kesrfPfgkoIgoAAB3LycrzivPqKKKKKK9j+BngHR/FR1TUNbshdwWzRxwIzsF3kEtkAjPG3r6177q/grw3rljb2mo6PaTwWyeXApTaYk44QjBUcDp6V8a+KNDm8N+J9R0ecENazsgJ/iXOVb8VIP41k0UUUUV7j+z74zsdLuLzw3fypCbyVZrWRjgNJgKUz6kBcfQ19A6xM8GiX80cjRvHbyOrquSpCkggdzXwre3tzqN5LeXk8lxcytukllYszH1JNV6KKKKKv6JL5OvafLv2bLmJt2cbcOOa+w9YvR4evNe1vWrxItCazhjjXflvMHmbgq+rblA9T9K+Ln27ztztzxmkoooooroPBN3pVj4v0+71uKOXToWZ5o5F3B8IxAx7tivQ/iv4lbxp4G8N67BdRxxl5I7vT47hWEMv8ACSuc5wG5I6Htnnxyiiiiiiiiiiiiiiiiiiiiiiiiiiiiiiiv/9k=\"><img style=\"display:inline;margin:1px\" src=\"data:image/jpeg;base64,/9j/4AAQSkZJRgABAQAAAQABAAD/2wBDAAgGBgcGBQgHBwcJCQgKDBQNDAsLDBkSEw8UHRofHh0aHBwgJC4nICIsIxwcKDcpLDAxNDQ0Hyc5PTgyPC4zNDL/wAALCABGAEYBAREA/8QAHwAAAQUBAQEBAQEAAAAAAAAAAAECAwQFBgcICQoL/8QAtRAAAgEDAwIEAwUFBAQAAAF9AQIDAAQRBRIhMUEGE1FhByJxFDKBkaEII0KxwRVS0fAkM2JyggkKFhcYGRolJicoKSo0NTY3ODk6Q0RFRkdISUpTVFVWV1hZWmNkZWZnaGlqc3R1dnd4eXqDhIWGh4iJipKTlJWWl5iZmqKjpKWmp6ipqrKztLW2t7i5usLDxMXGx8jJytLT1NXW19jZ2uHi4+Tl5ufo6erx8vP09fb3+Pn6/9oACAEBAAA/APn+iiiiiiiiiiiiiiiiiiiiiiiiiiiiiiiiiiiiinRxvNKscaM7udqqoyST0AFe8+J/gvp8PwxtdS0OwvTrcUMU08blmklBA3r5fYjOcD0I5rwVlKsVYEEHBB7UlFFFFFejfBK50W0+I1pLq7lZChjsiU3L57YAz6cE49yK+tLieK2tpJ5nCRRIXdj/AAgDJNfEnja80rUPGmrXmiqw0+e4aSHcu3OeSQOwJyR7EVgUUUUUV6H8FNPt774n6Y1xcQxi33zpHI2DK4U7QvqQTnHoDX1xNFHPA8Miho3UowPcEYNfCet6ZNouu32mTqVltZ3hYH/ZJFUKKKKKK3vBWtx+HPGekatNu8m2uVaXbydnRsfgTX0ZqXxa0DR/Hlkp1aC50a+sAJJrdvNEEoc7SwHIBUkEYz09K+d/HWtPr/jPU79rmK6UzMkdxFEEEsanCNgd9oHNc7RRRRRRRRRRRRX/2Q==\"><img style=\"display:inline;margin:1px\" src=\"data:image/jpeg;base64,/9j/4AAQSkZJRgABAQAAAQABAAD/2wBDAAgGBgcGBQgHBwcJCQgKDBQNDAsLDBkSEw8UHRofHh0aHBwgJC4nICIsIxwcKDcpLDAxNDQ0Hyc5PTgyPC4zNDL/wAALCABGAEYBAREA/8QAHwAAAQUBAQEBAQEAAAAAAAAAAAECAwQFBgcICQoL/8QAtRAAAgEDAwIEAwUFBAQAAAF9AQIDAAQRBRIhMUEGE1FhByJxFDKBkaEII0KxwRVS0fAkM2JyggkKFhcYGRolJicoKSo0NTY3ODk6Q0RFRkdISUpTVFVWV1hZWmNkZWZnaGlqc3R1dnd4eXqDhIWGh4iJipKTlJWWl5iZmqKjpKWmp6ipqrKztLW2t7i5usLDxMXGx8jJytLT1NXW19jZ2uHi4+Tl5ufo6erx8vP09fb3+Pn6/9oACAEBAAA/APn+iiiiiiiiiiiiiiiiiiiilALEADJPYV9FfDnwLqEXwu8Q2Gq+GIl1C6Dm1+1IgeXMfyjJ5XawyM4614Rr3hzV/DN8tlrNjLZ3DIJFSTB3KSRkEEgjINZdFFFFFafhxVfxPpKsAVN5CCD3G8V91ivnv9paGNbrw7MFAkZJ0LeoBQgfqfzrwWiiiiirOn3bWGo2t4gy0EqSgHuVIP8ASvtXQPFtjrnhzSdYCtAmpsEijb5iH+b5SR/uNzXzr8fNen1P4gvpjMv2fTIljjCnOWdQ7E+/IH/Aa8roooooor37TdTltvhX8M/sjjd/byKxxnBEkoI/JjXm3xcu1vPinr0iYwk4i4GOURVP6g1xVFFFFFFd1p/xCGmeHPDWnR2TTyaNqL3+JnHluTnaBgZGCSfrXIapqEmrateajMAst1O8zhegLMSQPbmqlFFFFFFFFFFFFFFFFFFFFf/Z\"><img style=\"display:inline;margin:1px\" src=\"data:image/jpeg;base64,/9j/4AAQSkZJRgABAQAAAQABAAD/2wBDAAgGBgcGBQgHBwcJCQgKDBQNDAsLDBkSEw8UHRofHh0aHBwgJC4nICIsIxwcKDcpLDAxNDQ0Hyc5PTgyPC4zNDL/wAALCABGAEYBAREA/8QAHwAAAQUBAQEBAQEAAAAAAAAAAAECAwQFBgcICQoL/8QAtRAAAgEDAwIEAwUFBAQAAAF9AQIDAAQRBRIhMUEGE1FhByJxFDKBkaEII0KxwRVS0fAkM2JyggkKFhcYGRolJicoKSo0NTY3ODk6Q0RFRkdISUpTVFVWV1hZWmNkZWZnaGlqc3R1dnd4eXqDhIWGh4iJipKTlJWWl5iZmqKjpKWmp6ipqrKztLW2t7i5usLDxMXGx8jJytLT1NXW19jZ2uHi4+Tl5ufo6erx8vP09fb3+Pn6/9oACAEBAAA/APn+iiiiiiiiiiiiiiiiiiiiiiiiiiiip7OzudQvIbOzgknuJnCRxRrlmY9ABVnWdD1Pw9qDWGrWU1pdKA3lyjGQehB6Ee4rPoooooor0j4c+Gtc0yWz8feXaw6Np8rSSTXMhG9B8rbVUFieSAcda7Hx74T1z4ryweK/DsMMtgsZtbaKRvKklRST5nzYHLM4xx90HnNeFTwS2txJbzoUliYo6HqrA4I/Oo6KKKK6bwj4I1Txbcs1uFttOhP+lahP8sNuvUkk4ycdv5da+j/AWpeFde0y/wDBek2/27RdKt44Xnm5W5LlixA9MjOe5PHFd1dStpkFnDZWJkiaaODZEuBDGeN2B0CgV8gfFOOyj+JmvCwkjkga5L5jOQHIBcfgxYVx9FFFFWBf3a2JsRdTC0L+YYPMPllum7b0z719L/s96ONO8C3WrTBEN/cllcnny4xtGf8AgW+um+LPiF9E+Gmo3lo257lFgikjlK7fM43gjngcjFfHZOTk0lFFFFFes6L8WbPTvhPL4Qktb1Ls280KXUBTaA7MRwTn+LB/Sqvj/wCKVr4u8F6ToVrZ3Fs9o0bTF2Uo5WPbxjnqc815hRRRRRRRRRRRRRX/2Q==\"><img style=\"display:inline;margin:1px\" src=\"data:image/jpeg;base64,/9j/4AAQSkZJRgABAQAAAQABAAD/2wBDAAgGBgcGBQgHBwcJCQgKDBQNDAsLDBkSEw8UHRofHh0aHBwgJC4nICIsIxwcKDcpLDAxNDQ0Hyc5PTgyPC4zNDL/wAALCABGAEYBAREA/8QAHwAAAQUBAQEBAQEAAAAAAAAAAAECAwQFBgcICQoL/8QAtRAAAgEDAwIEAwUFBAQAAAF9AQIDAAQRBRIhMUEGE1FhByJxFDKBkaEII0KxwRVS0fAkM2JyggkKFhcYGRolJicoKSo0NTY3ODk6Q0RFRkdISUpTVFVWV1hZWmNkZWZnaGlqc3R1dnd4eXqDhIWGh4iJipKTlJWWl5iZmqKjpKWmp6ipqrKztLW2t7i5usLDxMXGx8jJytLT1NXW19jZ2uHi4+Tl5ufo6erx8vP09fb3+Pn6/9oACAEBAAA/APn+iiiiiiiiiiiiiiiiiiiiiiiiiiiiiiiuz0X4YeIte8IXPiWzihNpCHKxs+JJQn3igxg4wep5wcVxnSiiiiiirFjaS6hqFvZwLumuJVijHqzEAfqa+2vCOm2Gl+ErDTNPkE1rbRmASEffZWIc/iwavj3xzHpcPjjWYtFULp6XTrCo6DBwce2c49sVz9FFFFFa3heZbfxZo87/AHYr6Bz9BItfZ+sXcdza6po1ld+TqgsGlQJw8YcMqOP+BKenpXw4+dx3Z3d802iiiiinI7I4dThlOQfQ1774j8bNoHxZ8K+IZZy1hfaNAtwQnWKQtk++Gw34V5R8RPD3/CM+OdT09ObfzfNgb1jf5l/nj8K5eiiiiiirN1qF5erCt1dTTrAgjiEshYRoP4Vz0HsKl1LWNQ1hrdtQupLhreBbeIufuxr91fwqjRRRRRRRRRRX/9k=\"><img style=\"display:inline;margin:1px\" src=\"data:image/jpeg;base64,/9j/4AAQSkZJRgABAQAAAQABAAD/2wBDAAgGBgcGBQgHBwcJCQgKDBQNDAsLDBkSEw8UHRofHh0aHBwgJC4nICIsIxwcKDcpLDAxNDQ0Hyc5PTgyPC4zNDL/wAALCABGAEYBAREA/8QAHwAAAQUBAQEBAQEAAAAAAAAAAAECAwQFBgcICQoL/8QAtRAAAgEDAwIEAwUFBAQAAAF9AQIDAAQRBRIhMUEGE1FhByJxFDKBkaEII0KxwRVS0fAkM2JyggkKFhcYGRolJicoKSo0NTY3ODk6Q0RFRkdISUpTVFVWV1hZWmNkZWZnaGlqc3R1dnd4eXqDhIWGh4iJipKTlJWWl5iZmqKjpKWmp6ipqrKztLW2t7i5usLDxMXGx8jJytLT1NXW19jZ2uHi4+Tl5ufo6erx8vP09fb3+Pn6/9oACAEBAAA/APn+iitjwz4Z1TxbrKaVpMKy3LKXO5gqqo6kk9B0/OvSfij8P/8AhGPA3huW30WFJ4I9mqXsDZzKQoAb1BO7Bx7V49RRRRRRXtfwGCact/qiJG91cXtrpyF/4Ecl3I9yF/SvcfHehxeI/BGq6ZNPHbiaAlZZDhY2UhlLHsMgZ9q+Kbu1msrya1uE2TQu0ci56MDgj8xUNFFFFFa+m6trCadNomnPKYb2aORoYo8u8iZ27SBuzz2r6Y0nRtX1/wCEcvhrxXKYdZe2coHuA02xTmN3AOeDhTn05618pSO8kjO7FnJySTkk02iiiiiu88I+OofCvhfUFsLO0t/EQdfsuoNBvcxMf3iZOQCMAg4xjPfGdX4ReLktviRPqPiHUk23tpLFPdXs2OeGHzH124xXGeKfDz6Bqcsa3lhd2zyN5EtndJKGTPBwpyvHqKwaKKKKKKKKKKKKKKKKKKKKKKKKKKKKKKKKKKKKKKKKKKKKKKK//9k=\"><img style=\"display:inline;margin:1px\" src=\"data:image/jpeg;base64,/9j/4AAQSkZJRgABAQAAAQABAAD/2wBDAAgGBgcGBQgHBwcJCQgKDBQNDAsLDBkSEw8UHRofHh0aHBwgJC4nICIsIxwcKDcpLDAxNDQ0Hyc5PTgyPC4zNDL/wAALCABGAEYBAREA/8QAHwAAAQUBAQEBAQEAAAAAAAAAAAECAwQFBgcICQoL/8QAtRAAAgEDAwIEAwUFBAQAAAF9AQIDAAQRBRIhMUEGE1FhByJxFDKBkaEII0KxwRVS0fAkM2JyggkKFhcYGRolJicoKSo0NTY3ODk6Q0RFRkdISUpTVFVWV1hZWmNkZWZnaGlqc3R1dnd4eXqDhIWGh4iJipKTlJWWl5iZmqKjpKWmp6ipqrKztLW2t7i5usLDxMXGx8jJytLT1NXW19jZ2uHi4+Tl5ufo6erx8vP09fb3+Pn6/9oACAEBAAA/APn+iiiiiiiiiiiiiiiiiiiiiiiiiiiiiiiiiiiiiiiit/wl4P1fxpqrafpESNIkZkd5G2oi+5wep4Fe0fET4ZapceAPD1vpGh6e19p0OL42uBI2EGdpIG8Egk984xXzwRg4NFFFFFFe2/s9+I5LfWpvD0OmwsLrdcz3m471VFwq46Ebj/48a+kJJEijaSRlRFGWZjgADuTXwv4mS1TxVq6WJJtVvJhDn+5vOP0rKooooorZ8J6n/Y/i3SdQMjRxwXcTyEMV+QOCQcdsV9PfG/VJLD4W3wgcg3ckdvuX+6zZP4EKR+NfJFFFFFFFKOor6NvdD1Dxv+znpDfbM3dnGbrMp4kWIuu0n/d6H1FfOJooooooorobLx14n07RF0az1q6h09Q4ECMAAG+8M4zjk8e9c9RX/9k=\"><img style=\"display:inline;margin:1px\" src=\"data:image/jpeg;base64,/9j/4AAQSkZJRgABAQAAAQABAAD/2wBDAAgGBgcGBQgHBwcJCQgKDBQNDAsLDBkSEw8UHRofHh0aHBwgJC4nICIsIxwcKDcpLDAxNDQ0Hyc5PTgyPC4zNDL/wAALCABGAEYBAREA/8QAHwAAAQUBAQEBAQEAAAAAAAAAAAECAwQFBgcICQoL/8QAtRAAAgEDAwIEAwUFBAQAAAF9AQIDAAQRBRIhMUEGE1FhByJxFDKBkaEII0KxwRVS0fAkM2JyggkKFhcYGRolJicoKSo0NTY3ODk6Q0RFRkdISUpTVFVWV1hZWmNkZWZnaGlqc3R1dnd4eXqDhIWGh4iJipKTlJWWl5iZmqKjpKWmp6ipqrKztLW2t7i5usLDxMXGx8jJytLT1NXW19jZ2uHi4+Tl5ufo6erx8vP09fb3+Pn6/9oACAEBAAA/APn+iiiiiiiiiiit7WvB+teH9I0zVNRtRFa6lH5luwcEkYB5A5BwQefWsGiiiiiip7K2a8v7e1UgNNIsYJGcEkD+tfU/i34T22r/AA/0/S5NTu5LvRLV1tZuAshC9GTpj5QAeoHc18o0UUUUUV1/wu03+1fiXoNuVDKt0szA9MRgv/7LX1f441iTQfA+sanHGJJYLViik4G4/KCfpnP4V8QnrRRRRRRXVfDW9ubH4j6BJbStG73scTFe6O21h9CCRXuPxK8QnxD4B8dafEqH+x723hyp6rujJJz33bx+FfMneiiiiiiug8DLcP490AWqF5hqEBUAZ6OCf0zXqHiHzLDw78V7lon23msxWykjAyJCxP5MPzFeHnrRRRRRRVmx1G90yZprC7ntZWQoXhkKMVPUZHY1LPrOqXVkLOfUbuW1DmTyXmYpuPVsE4z71Roooooooooooooooooooooor//Z\"><img style=\"display:inline;margin:1px\" src=\"data:image/jpeg;base64,/9j/4AAQSkZJRgABAQAAAQABAAD/2wBDAAgGBgcGBQgHBwcJCQgKDBQNDAsLDBkSEw8UHRofHh0aHBwgJC4nICIsIxwcKDcpLDAxNDQ0Hyc5PTgyPC4zNDL/wAALCABGAEYBAREA/8QAHwAAAQUBAQEBAQEAAAAAAAAAAAECAwQFBgcICQoL/8QAtRAAAgEDAwIEAwUFBAQAAAF9AQIDAAQRBRIhMUEGE1FhByJxFDKBkaEII0KxwRVS0fAkM2JyggkKFhcYGRolJicoKSo0NTY3ODk6Q0RFRkdISUpTVFVWV1hZWmNkZWZnaGlqc3R1dnd4eXqDhIWGh4iJipKTlJWWl5iZmqKjpKWmp6ipqrKztLW2t7i5usLDxMXGx8jJytLT1NXW19jZ2uHi4+Tl5ufo6erx8vP09fb3+Pn6/9oACAEBAAA/APn+iiiiiiiiiiiiiiiiiiiiiiiiiiiiiiiiiiiiiiiit7wn4Q1bxpqzadpEcbTJEZXaV9iqoIGSfqQPxrJv7KfTdQubG6TZcW8rRSLnOGU4I/MVXoooooor6d+Cnw4tNI0nT/FdxJcjVLuBise/EaxOfl4xySADycc9OK5/42fDPRdJ0WfxRpaSwXL3am4iMm6Nt5OWAPIO7HfHJ4rwKiiiiiivpP8AZ+1OVfBusXWpanI1paTKirPKSlvGqZJGfujn9K0vj/rFjb+AP7NkuE+2Xk8bQwg/MVU5ZsenbPqa+WqKKKKKK9I8J6obf4NeOLSHKymS1LH1R32n+X61Z+M9zLcy+EZJScvoMEhHu2c/yry6iiiiiinLI6oyK7BWxuUHg46Zp89zPclDPPJKUUIpkcttUdAM9B7VFRX/2Q==\"><img style=\"display:inline;margin:1px\" src=\"data:image/jpeg;base64,/9j/4AAQSkZJRgABAQAAAQABAAD/2wBDAAgGBgcGBQgHBwcJCQgKDBQNDAsLDBkSEw8UHRofHh0aHBwgJC4nICIsIxwcKDcpLDAxNDQ0Hyc5PTgyPC4zNDL/wAALCABGAEYBAREA/8QAHwAAAQUBAQEBAQEAAAAAAAAAAAECAwQFBgcICQoL/8QAtRAAAgEDAwIEAwUFBAQAAAF9AQIDAAQRBRIhMUEGE1FhByJxFDKBkaEII0KxwRVS0fAkM2JyggkKFhcYGRolJicoKSo0NTY3ODk6Q0RFRkdISUpTVFVWV1hZWmNkZWZnaGlqc3R1dnd4eXqDhIWGh4iJipKTlJWWl5iZmqKjpKWmp6ipqrKztLW2t7i5usLDxMXGx8jJytLT1NXW19jZ2uHi4+Tl5ufo6erx8vP09fb3+Pn6/9oACAEBAAA/APn+iiiiiiiiiiiiiiiiiiiiiiiiiiiiiuv8BeArjx3c6hFDfw2i2Vv5zF0LFvQAD6cmuQooooooor6q+DfgPR9M8H2ettbmXUdTtD50kjEgRsSdijoAQBn1rxr4yeDdM8G+LYLbSVeO0urYTiJnLbDuZSATzjgV51RRRRRRX2n8NL23vPht4flgkDqllHEx9HQbWH5g186fHHWLjU/iZe28y7I7BEtoh6rjeT+JY/pXm9FFFFFFewfDDUZ7PwBq3ksx2a3prMobG0GVQSceu0CuV+Ll0Lv4p6/IGVgs4iyv+yir/SuJoooooors/BHjG18L6fqdvcwTXH2yezcRqBsKwzCRs5PUgYGB3rA8SX0Gp+JtUv7aSWSG5upZkaVdrkMxYZGTzz61l0UUUUUUUUUUUV//2Q==\">"
            ],
            "text/plain": [
              "<IPython.core.display.HTML object>"
            ]
          },
          "metadata": {
            "tags": []
          }
        },
        {
          "output_type": "stream",
          "text": [
            "5) Depth Images\n"
          ],
          "name": "stdout"
        },
        {
          "output_type": "display_data",
          "data": {
            "text/html": [
              "<img style=\"display:inline;margin:1px\" src=\"data:image/jpeg;base64,/9j/4AAQSkZJRgABAQAAAQABAAD/2wBDAAgGBgcGBQgHBwcJCQgKDBQNDAsLDBkSEw8UHRofHh0aHBwgJC4nICIsIxwcKDcpLDAxNDQ0Hyc5PTgyPC4zNDL/wAALCABGAEYBAREA/8QAHwAAAQUBAQEBAQEAAAAAAAAAAAECAwQFBgcICQoL/8QAtRAAAgEDAwIEAwUFBAQAAAF9AQIDAAQRBRIhMUEGE1FhByJxFDKBkaEII0KxwRVS0fAkM2JyggkKFhcYGRolJicoKSo0NTY3ODk6Q0RFRkdISUpTVFVWV1hZWmNkZWZnaGlqc3R1dnd4eXqDhIWGh4iJipKTlJWWl5iZmqKjpKWmp6ipqrKztLW2t7i5usLDxMXGx8jJytLT1NXW19jZ2uHi4+Tl5ufo6erx8vP09fb3+Pn6/9oACAEBAAA/AOdVB3p3lijaKTbS7BQUFNKUeWKY6DNTjkmnY4pMEUlOxRijbS7eKhkHNSAcn607FQXEhTABxUSSktjNXVGQDSlcUlKelQv1p6d/rT6p3inaG7d6rRN84FbSqAtIwqKgnion61GJ0UkE96mEykZqveSAw49TVWBGZhgZOa3FFDj5SagoPSoHPzVmPKCzHPepIryNRhjTbmdJIxscHn1q9pzKIe2fWtFWpzn92arUdqgfrXLSStk88VC0hPc03efU1PDe3MZASUjJrsIGYxLuOTjk1KzfKajoPSqrn5q5lwMmomUYpmPanIPmX610lvcMqAZ7VaWckdacJaUyDFQOcmucZSTTCh9aaI/epEi5HNaULsABxVpJDjpUglPpT/NOOlRlix4xX//Z\"><img style=\"display:inline;margin:1px\" src=\"data:image/jpeg;base64,/9j/4AAQSkZJRgABAQAAAQABAAD/2wBDAAgGBgcGBQgHBwcJCQgKDBQNDAsLDBkSEw8UHRofHh0aHBwgJC4nICIsIxwcKDcpLDAxNDQ0Hyc5PTgyPC4zNDL/wAALCABGAEYBAREA/8QAHwAAAQUBAQEBAQEAAAAAAAAAAAECAwQFBgcICQoL/8QAtRAAAgEDAwIEAwUFBAQAAAF9AQIDAAQRBRIhMUEGE1FhByJxFDKBkaEII0KxwRVS0fAkM2JyggkKFhcYGRolJicoKSo0NTY3ODk6Q0RFRkdISUpTVFVWV1hZWmNkZWZnaGlqc3R1dnd4eXqDhIWGh4iJipKTlJWWl5iZmqKjpKWmp6ipqrKztLW2t7i5usLDxMXGx8jJytLT1NXW19jZ2uHi4+Tl5ufo6erx8vP09fb3+Pn6/9oACAEBAAA/AMYRil2CjYKTYKQoKbsFHlik8sVHLGOKtg5JNLjNGKMUmKTFGKXbxUMg5FSgYz9aeKWjFGKQjjpTaXtUT9RTlPX608Uo60+jFIRxTKTNROeaZ5qhiCe9PEy0puY1GTSxXccj7cgVapGHBqKkNQOeRVQtl2Oe9AkAFMlkBXg0yH/XIM963xQ/3DUAoPSoHPNYrTkZqJrg+9MWf5ualSfDBl6g10sMwlhVx3FPZvlNR5FI3CmqbtzWI55NRsBUdPjzjFX4LmWJAquQPSrSXsp6tn8KspdE9QKe0+Vxiqztk1jEnNNNR8inKx9qmVz3FSrIc9KspKfSphKcdKjaQk8Cv//Z\"><img style=\"display:inline;margin:1px\" src=\"data:image/jpeg;base64,/9j/4AAQSkZJRgABAQAAAQABAAD/2wBDAAgGBgcGBQgHBwcJCQgKDBQNDAsLDBkSEw8UHRofHh0aHBwgJC4nICIsIxwcKDcpLDAxNDQ0Hyc5PTgyPC4zNDL/wAALCABGAEYBAREA/8QAHwAAAQUBAQEBAQEAAAAAAAAAAAECAwQFBgcICQoL/8QAtRAAAgEDAwIEAwUFBAQAAAF9AQIDAAQRBRIhMUEGE1FhByJxFDKBkaEII0KxwRVS0fAkM2JyggkKFhcYGRolJicoKSo0NTY3ODk6Q0RFRkdISUpTVFVWV1hZWmNkZWZnaGlqc3R1dnd4eXqDhIWGh4iJipKTlJWWl5iZmqKjpKWmp6ipqrKztLW2t7i5usLDxMXGx8jJytLT1NXW19jZ2uHi4+Tl5ufo6erx8vP09fb3+Pn6/9oACAEBAAA/AMMIKCgppQUwrimEVGVppUUm0Ux0Ga1zySfemkGmlaYajaoz1pKTFNbrWoB1+tLimEVGwqJhUZ60lFNYc1pIev1pxNNJxUTVEajYUlFMbrVsTopOT3qQTKwyKQuDRjIqJhzimlaZijFRt96oZJAWY+9SQ3KDgtj8atJIj4wyn8anXpUbcsaRhwajxxSdqibrWDLM+484qEyt6mhZpAeGNWo9UvFIUTHGccgGukjzsXc2445NK1MprdKgbrWC4G41Eyim4pyjkVtQ3UoUDefxq0s7HqakElIXyKibrWI6nJphT3pPK96csfPWrkZIxVpHIHQVKJD6UpkPpTdxY9q//9k=\"><img style=\"display:inline;margin:1px\" src=\"data:image/jpeg;base64,/9j/4AAQSkZJRgABAQAAAQABAAD/2wBDAAgGBgcGBQgHBwcJCQgKDBQNDAsLDBkSEw8UHRofHh0aHBwgJC4nICIsIxwcKDcpLDAxNDQ0Hyc5PTgyPC4zNDL/wAALCABGAEYBAREA/8QAHwAAAQUBAQEBAQEAAAAAAAAAAAECAwQFBgcICQoL/8QAtRAAAgEDAwIEAwUFBAQAAAF9AQIDAAQRBRIhMUEGE1FhByJxFDKBkaEII0KxwRVS0fAkM2JyggkKFhcYGRolJicoKSo0NTY3ODk6Q0RFRkdISUpTVFVWV1hZWmNkZWZnaGlqc3R1dnd4eXqDhIWGh4iJipKTlJWWl5iZmqKjpKWmp6ipqrKztLW2t7i5usLDxMXGx8jJytLT1NXW19jZ2uHi4+Tl5ufo6erx8vP09fb3+Pn6/9oACAEBAAA/AMfyxj3pNgoKCmFabtpNtGyl8sVHJGOKuk5JPvRikIphppFGKXFOA4qOQciph3+tOFIelMIpCKTFOFO7VE4yRUinr9afTTSUmKXFFHao360eYoZue9KZ0HU1A+oQq+zJJ9hSLqMOcNuHvirwXIBHQ80FTim4oqFzyKrMwLsRjrUMsyoPf0rNdyXJ7mlU5NdNZbvsUW8ENjFTPjYagHWlqFzzWO05BNV5JixqHOTVm0Aa5QN0zmunDcCkZvlqMdaU9KrOeawXOSaibpTAaswMA+e9a0dw4/iqcXDHqaeJqDLkVA7c1hMTmmMeKYM+1SpkHPFXY5WA6VOsx9KlEx9Kf5xI6VGzlm7V/9k=\"><img style=\"display:inline;margin:1px\" src=\"data:image/jpeg;base64,/9j/4AAQSkZJRgABAQAAAQABAAD/2wBDAAgGBgcGBQgHBwcJCQgKDBQNDAsLDBkSEw8UHRofHh0aHBwgJC4nICIsIxwcKDcpLDAxNDQ0Hyc5PTgyPC4zNDL/wAALCABGAEYBAREA/8QAHwAAAQUBAQEBAQEAAAAAAAAAAAECAwQFBgcICQoL/8QAtRAAAgEDAwIEAwUFBAQAAAF9AQIDAAQRBRIhMUEGE1FhByJxFDKBkaEII0KxwRVS0fAkM2JyggkKFhcYGRolJicoKSo0NTY3ODk6Q0RFRkdISUpTVFVWV1hZWmNkZWZnaGlqc3R1dnd4eXqDhIWGh4iJipKTlJWWl5iZmqKjpKWmp6ipqrKztLW2t7i5usLDxMXGx8jJytLT1NXW19jZ2uHi4+Tl5ufo6erx8vP09fb3+Pn6/9oACAEBAAA/AMcRjvRsApCophQUwqKYUFRlRSFBUToM1sjkk+9BUmmlD6VGRUZFMbioiaO1RP1rYUdfrUmKawqFhzUTCoXqI0dqY3WteM8H61LTGqJqiaoJKiNFMbrV4XCKTk96mW4QrQZlNMMgNNZgBmqjPk0lLUR60x5AWY570+K4QcE4qykiN0YH8alFI/3TVMnmpBQelQnrWLLM+48nFRGZvU00TuDlWNTpql4nAm49wDXRxuWiUsckjmqzcNipFOQKU9KhPWsWQDcagYCm4oA5FbcU7hQAxxipN+eTUqtinbuKiY81kspLGomT6U3yvenLH71cjYjjip1c+1SCQ+gqQSHHSmglz2Ff/9k=\"><img style=\"display:inline;margin:1px\" src=\"data:image/jpeg;base64,/9j/4AAQSkZJRgABAQAAAQABAAD/2wBDAAgGBgcGBQgHBwcJCQgKDBQNDAsLDBkSEw8UHRofHh0aHBwgJC4nICIsIxwcKDcpLDAxNDQ0Hyc5PTgyPC4zNDL/wAALCABGAEYBAREA/8QAHwAAAQUBAQEBAQEAAAAAAAAAAAECAwQFBgcICQoL/8QAtRAAAgEDAwIEAwUFBAQAAAF9AQIDAAQRBRIhMUEGE1FhByJxFDKBkaEII0KxwRVS0fAkM2JyggkKFhcYGRolJicoKSo0NTY3ODk6Q0RFRkdISUpTVFVWV1hZWmNkZWZnaGlqc3R1dnd4eXqDhIWGh4iJipKTlJWWl5iZmqKjpKWmp6ipqrKztLW2t7i5usLDxMXGx8jJytLT1NXW19jZ2uHi4+Tl5ufo6erx8vP09fb3+Pn6/9oACAEBAAA/AMQIBRsFG0U1gByaaNrdKQqM00qKTYKY6DNX+pP1o2mjYfSoZwQPpVdWwwqYmm5pc0x+tXF6ke9SjFLxSFVwS2Me9ZTsvnny+Uz2qc9KYaUGkbrVtDnP1qXtRTXjEhAYnb6VFPEvlgKAMHtURBAqM0g60MeakE6KTk96mS4QjPNO85T604Sg9jQzZFQydDVegUjdaqNICzHPepYZ0xgnFWUZW6MD+NTrxT80x+VNV8UUxutYLzsCai85vU0C4kX7rGrEep3YKqJeM9xmulUkqMnJxyaQng1HSHpUDHmsFwMmomAptKv3h9a3Ybp9oG6rKzsRyaf5lIXyKibrWI6nJqMpTRH705Y+RzV6JjVpHOOgqQSH0p3mHHSm5LHtX//Z\"><img style=\"display:inline;margin:1px\" src=\"data:image/jpeg;base64,/9j/4AAQSkZJRgABAQAAAQABAAD/2wBDAAgGBgcGBQgHBwcJCQgKDBQNDAsLDBkSEw8UHRofHh0aHBwgJC4nICIsIxwcKDcpLDAxNDQ0Hyc5PTgyPC4zNDL/wAALCABGAEYBAREA/8QAHwAAAQUBAQEBAQEAAAAAAAAAAAECAwQFBgcICQoL/8QAtRAAAgEDAwIEAwUFBAQAAAF9AQIDAAQRBRIhMUEGE1FhByJxFDKBkaEII0KxwRVS0fAkM2JyggkKFhcYGRolJicoKSo0NTY3ODk6Q0RFRkdISUpTVFVWV1hZWmNkZWZnaGlqc3R1dnd4eXqDhIWGh4iJipKTlJWWl5iZmqKjpKWmp6ipqrKztLW2t7i5usLDxMXGx8jJytLT1NXW19jZ2uHi4+Tl5ufo6erx8vP09fb3+Pn6/9oACAEBAAA/AMgRjvS+WKNgpCgphQU0oKaUFNMYxUMqDNao5J+tLtJpNlIRTCKYRTaQjiq8nLVpqOT9alFIRTCKYRUbUykJ4NVn+9WnGev1qWkNNJphqNhURppPBqsx5q4LhFJy3ep1uEIzml89DSeYD60m4GoppkiXLHr2FVxdRsccj6ipD0NVW61E7gsxz3qSGdcYLYqyjq3RgfxqYU7NUtRX5BJuOemKz1ZtwrUDZjGeuKgbrWHJO+TzUXnv/eNILmQHhj+dWItTu0IAl49xmulRiUXccnHJFR3fz27CqFuv74E9BV3ORUJ61hSAZNQsKbilX7wrpYZCI157U933Lg1CgAfIHFS5qNzg1iupyelRMlNEZ9akWHkHIrThlO0cVN5hPalV/an7/YVGWLtjGMV//9k=\"><img style=\"display:inline;margin:1px\" src=\"data:image/jpeg;base64,/9j/4AAQSkZJRgABAQAAAQABAAD/2wBDAAgGBgcGBQgHBwcJCQgKDBQNDAsLDBkSEw8UHRofHh0aHBwgJC4nICIsIxwcKDcpLDAxNDQ0Hyc5PTgyPC4zNDL/wAALCABGAEYBAREA/8QAHwAAAQUBAQEBAQEAAAAAAAAAAAECAwQFBgcICQoL/8QAtRAAAgEDAwIEAwUFBAQAAAF9AQIDAAQRBRIhMUEGE1FhByJxFDKBkaEII0KxwRVS0fAkM2JyggkKFhcYGRolJicoKSo0NTY3ODk6Q0RFRkdISUpTVFVWV1hZWmNkZWZnaGlqc3R1dnd4eXqDhIWGh4iJipKTlJWWl5iZmqKjpKWmp6ipqrKztLW2t7i5usLDxMXGx8jJytLT1NXW19jZ2uHi4+Tl5ufo6erx8vP09fb3+Pn6/9oACAEBAAA/AOeEY707YKNoo20u2kKCm7BRsFRSRgGrXr9aKSinAUEUmKMVFJ1FTAcn60uPamscA1EsvzdOtWAOKCKbQelRP1qZOh+tOqGY4Q1Wj+eVVz1NaW2kYcGoqQ9Kib71AmVScnvUokDDIqC8bEX41DYt/pS575rXxSOMIarUdqhfrVFpVLMc96kivI1GGNJc3MckPysDS6d89wh/ujNbQNDn92aq0HpUDda5ySVsnsKgZye9N3t6mp7e6nhkXy5CDmuwiclBuOTjk05m+WoaQ9Krt1rnnxk8VCyim4pUHzr9a6OC4YIBntU4nJp/m0hkyKhc1gMp3GmFD603yz6inpHyDmtKF2AFWVkPpTxIfSneYcdKZuLHjFf/2Q==\"><img style=\"display:inline;margin:1px\" src=\"data:image/jpeg;base64,/9j/4AAQSkZJRgABAQAAAQABAAD/2wBDAAgGBgcGBQgHBwcJCQgKDBQNDAsLDBkSEw8UHRofHh0aHBwgJC4nICIsIxwcKDcpLDAxNDQ0Hyc5PTgyPC4zNDL/wAALCABGAEYBAREA/8QAHwAAAQUBAQEBAQEAAAAAAAAAAAECAwQFBgcICQoL/8QAtRAAAgEDAwIEAwUFBAQAAAF9AQIDAAQRBRIhMUEGE1FhByJxFDKBkaEII0KxwRVS0fAkM2JyggkKFhcYGRolJicoKSo0NTY3ODk6Q0RFRkdISUpTVFVWV1hZWmNkZWZnaGlqc3R1dnd4eXqDhIWGh4iJipKTlJWWl5iZmqKjpKWmp6ipqrKztLW2t7i5usLDxMXGx8jJytLT1NXW19jZ2uHi4+Tl5ufo6erx8vP09fb3+Pn6/9oACAEBAAA/AMYRjvTvLFBQUnlimlBTdgppQUnljFRSIAa0RyT9aXb7UbT6UmKaRTSKbto28VDIvIq6o6/WpAKUjNMK00imMKbmkqJ+tWoz1+tTCikNMNRmmUGoXPzU8XCKTk96mW4QjNP85DShwaOtMbiozSGoX61ReQFic96khuFHBNWo5UbowP41cTpT81DI2OKjViTg0p6VC3WubkmbceaiMz+tIJ5AchiPxqzHqt4mAJjj3ANdVAzNCpcgtjk0yY5YU1OtOPSoG61zUgGTULAU3FKoywFdPaTMIVG7tU5k3dacDigtxUTmuddTk9KjMeRQITnqKcsHI5rVgkKqBjtVgSnHSnCY+lP84+lNyztgYFf/2Q==\"><img style=\"display:inline;margin:1px\" src=\"data:image/jpeg;base64,/9j/4AAQSkZJRgABAQAAAQABAAD/2wBDAAgGBgcGBQgHBwcJCQgKDBQNDAsLDBkSEw8UHRofHh0aHBwgJC4nICIsIxwcKDcpLDAxNDQ0Hyc5PTgyPC4zNDL/wAALCABGAEYBAREA/8QAHwAAAQUBAQEBAQEAAAAAAAAAAAECAwQFBgcICQoL/8QAtRAAAgEDAwIEAwUFBAQAAAF9AQIDAAQRBRIhMUEGE1FhByJxFDKBkaEII0KxwRVS0fAkM2JyggkKFhcYGRolJicoKSo0NTY3ODk6Q0RFRkdISUpTVFVWV1hZWmNkZWZnaGlqc3R1dnd4eXqDhIWGh4iJipKTlJWWl5iZmqKjpKWmp6ipqrKztLW2t7i5usLDxMXGx8jJytLT1NXW19jZ2uHi4+Tl5ufo6erx8vP09fb3+Pn6/9oACAEBAAA/AMIIKXYKTaKTbSFaNoo2il8sGo5IwCKsdST70YNGKbijFGKXFOC8UyQcinDv9aeOKCKbj2ox7UY9qAKf2qN+ooU8H60/NGaKcF5oK8U2io3PNReaoJye9SLMuM0GVcVnNqUgndSQFHTitOxnNzDuPUHFWXXCk1DS1DIeRVAsCx5705ZFHGaGlUDrWRcE+efeum0iNU09CDksSSauS48s1XFFQORurnnumUnioTen3FRNdMTwaWKQySruznNdfpo2WEQ9qsSN8pFQjrQ3Q1Wc81zMn3jUDDio8VLCdrg+9bkF5KFADED0q4l25+8c1Ms9OabI6VXdsmuccEselRspx2pmw+tPRDkVoRseOBVmOU+lWFlPpT/OOOlRNIxPGK//2Q==\">"
            ],
            "text/plain": [
              "<IPython.core.display.HTML object>"
            ]
          },
          "metadata": {
            "tags": []
          }
        }
      ]
    }
  ]
}