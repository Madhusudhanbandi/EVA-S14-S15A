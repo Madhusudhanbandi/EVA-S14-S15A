{
  "nbformat": 4,
  "nbformat_minor": 0,
  "metadata": {
    "kernelspec": {
      "name": "python3",
      "display_name": "Python 3"
    },
    "language_info": {
      "codemirror_mode": {
        "name": "ipython",
        "version": 3
      },
      "file_extension": ".py",
      "mimetype": "text/x-python",
      "name": "python",
      "nbconvert_exporter": "python",
      "pygments_lexer": "ipython3",
      "version": "3.6.6"
    },
    "colab": {
      "name": "EVA_S14_ASSIG_Summary_statistics.ipynb",
      "provenance": [],
      "collapsed_sections": [],
      "machine_shape": "hm",
      "include_colab_link": true
    },
    "accelerator": "GPU"
  },
  "cells": [
    {
      "cell_type": "markdown",
      "metadata": {
        "id": "view-in-github",
        "colab_type": "text"
      },
      "source": [
        "<a href=\"https://colab.research.google.com/github/Madhusudhanbandi/EVA-S14-S15A/blob/master/EVA_S14_ASSIG_Summary_statistics.ipynb\" target=\"_parent\"><img src=\"https://colab.research.google.com/assets/colab-badge.svg\" alt=\"Open In Colab\"/></a>"
      ]
    },
    {
      "cell_type": "code",
      "metadata": {
        "id": "qnNlF2wX8-np",
        "colab_type": "code",
        "outputId": "2606a9cf-9eb4-4c32-e8eb-9b735b5ed7f7",
        "colab": {
          "base_uri": "https://localhost:8080/",
          "height": 34
        }
      },
      "source": [
        "from google.colab import drive\n",
        "drive.mount('/content/gdrive')\n",
        "import sys\n",
        "sys.path.append('/content/gdrive/My Drive')"
      ],
      "execution_count": 0,
      "outputs": [
        {
          "output_type": "stream",
          "text": [
            "Drive already mounted at /content/gdrive; to attempt to forcibly remount, call drive.mount(\"/content/gdrive\", force_remount=True).\n"
          ],
          "name": "stdout"
        }
      ]
    },
    {
      "cell_type": "code",
      "metadata": {
        "id": "A_FmVGc0tqQw",
        "colab_type": "code",
        "outputId": "6a4a8e0f-89de-422a-e1d9-1b26a8fffad2",
        "colab": {
          "base_uri": "https://localhost:8080/",
          "height": 34
        }
      },
      "source": [
        "%cd '/content/gdrive/My Drive/Colab Notebooks/S14/DenseDepth'\n"
      ],
      "execution_count": 0,
      "outputs": [
        {
          "output_type": "stream",
          "text": [
            "/content/gdrive/My Drive/Colab Notebooks/S14/DenseDepth\n"
          ],
          "name": "stdout"
        }
      ]
    },
    {
      "cell_type": "markdown",
      "metadata": {
        "id": "cqf9VK714-s6",
        "colab_type": "text"
      },
      "source": [
        "**Summary statistics of images**"
      ]
    },
    {
      "cell_type": "code",
      "metadata": {
        "id": "BOPQSzeG4ZJO",
        "colab_type": "code",
        "outputId": "b50a68f4-5706-486d-bac5-4d6ba29133a3",
        "colab": {
          "base_uri": "https://localhost:8080/",
          "height": 51
        }
      },
      "source": [
        "import os\n",
        "import cv2\n",
        "import sys\n",
        "import glob\n",
        "import random\n",
        "import numpy as np\n",
        "\n",
        "images_bg= glob.glob(\"/content/gdrive/My Drive/Colab Notebooks/S14/DenseDepth/background/*\")\n",
        "\n",
        "pixel_mean = np.zeros(3)\n",
        "pixel_std = np.zeros(3)\n",
        "k = 1\n",
        "for image in images_bg:\n",
        "\timg = cv2.imread(image,cv2.IMREAD_UNCHANGED)\n",
        "\tpixels = img.reshape((-1, img.shape[2]))\n",
        "\tfor pixel in pixels:\n",
        "\t\tdiff = pixel - pixel_mean\n",
        "\t\tpixel_mean += diff / k\n",
        "\t\tpixel_std += diff * (pixel - pixel_mean)\n",
        "\t\tk += 1\n",
        "pixel_std = np.sqrt(pixel_std / (k - 2))\n",
        "print(\"Background images - Means of RGB channels is:\",pixel_mean)\n",
        "print(\"Background images - Std of RGB channels is:\",pixel_std)\n"
      ],
      "execution_count": 0,
      "outputs": [
        {
          "output_type": "stream",
          "text": [
            "Background images - Means of RGB channels is: [139.47920022 149.2706545  156.24668327]\n",
            "Background images - Std of RGB channels is: [70.37698057 67.25921999 66.53126658]\n"
          ],
          "name": "stdout"
        }
      ]
    },
    {
      "cell_type": "code",
      "metadata": {
        "id": "82daoKqB5lFa",
        "colab_type": "code",
        "outputId": "48f74a10-5872-46a8-e99a-0fb4336bb7b2",
        "colab": {
          "base_uri": "https://localhost:8080/",
          "height": 51
        }
      },
      "source": [
        "import os\n",
        "import cv2\n",
        "import sys\n",
        "import glob\n",
        "import random\n",
        "import numpy as np\n",
        "\n",
        "images_fg= glob.glob(\"/content/gdrive/My Drive/Colab Notebooks/S14/DenseDepth/foreground/*\")\n",
        "\n",
        "pixel_mean = np.zeros(4)\n",
        "pixel_std = np.zeros(4)\n",
        "k = 1\n",
        "for image in images_fg:\n",
        "\timg = cv2.imread(image,cv2.IMREAD_UNCHANGED)\n",
        "\tpixels = img.reshape((-1, img.shape[2]))\n",
        "\tfor pixel in pixels:\n",
        "\t\tdiff = pixel - pixel_mean\n",
        "\t\tpixel_mean += diff / k\n",
        "\t\tpixel_std += diff * (pixel - pixel_mean)\n",
        "\t\tk += 1\n",
        "pixel_std = np.sqrt(pixel_std / (k - 2))\n",
        "print(\"Foreground images - Means of RGBA channels is:\",pixel_mean)\n",
        "print(\"Foreground images - Std of RGBA channels is:\",pixel_std)\n",
        "\t\n"
      ],
      "execution_count": 0,
      "outputs": [
        {
          "output_type": "stream",
          "text": [
            "Foreground images - Means of RGBA channels is: [28.83108492 29.49019002 34.96438342 78.30303782]\n",
            "Foreground images - Std of RGBA channels is: [ 53.45716788  56.41516636  65.68626786 115.27612109]\n"
          ],
          "name": "stdout"
        }
      ]
    },
    {
      "cell_type": "code",
      "metadata": {
        "id": "T8c88Oea57Vd",
        "colab_type": "code",
        "outputId": "1bd28c33-6608-41f6-f74c-a38e7f3c2986",
        "colab": {
          "base_uri": "https://localhost:8080/",
          "height": 51
        }
      },
      "source": [
        "import os\n",
        "import cv2\n",
        "import sys\n",
        "import glob\n",
        "import random\n",
        "import numpy as np\n",
        "\n",
        "for_mask= glob.glob(\"/content/gdrive/My Drive/Colab Notebooks/S14/DenseDepth/foreground_mask/*\")\n",
        "\n",
        "\n",
        "pixel_mean = np.zeros(1)\n",
        "pixel_std = np.zeros(1)\n",
        "k = 1\n",
        "for image in for_mask:\n",
        "\timg = cv2.imread(image,cv2.IMREAD_UNCHANGED)\n",
        "\tpixels = img.reshape((-1))\n",
        "\tfor pixel in pixels:\n",
        "\t\tdiff = pixel - pixel_mean\n",
        "\t\tpixel_mean += diff / k\n",
        "\t\tpixel_std += diff * (pixel - pixel_mean)\n",
        "\t\tk += 1\n",
        "pixel_std = np.sqrt(pixel_std / (k - 2))\n",
        "print(\"Mask images - Means of mask images is:\",pixel_mean)\n",
        "print(\"Mask images - Std of mask images is:\",pixel_std)\n",
        "\n",
        "\t\t\n"
      ],
      "execution_count": 0,
      "outputs": [
        {
          "output_type": "stream",
          "text": [
            "Mask images - Means of mask images is: [78.30467003]\n",
            "Mask images - Std of mask images is: [115.14415228]\n"
          ],
          "name": "stdout"
        }
      ]
    }
  ]
}